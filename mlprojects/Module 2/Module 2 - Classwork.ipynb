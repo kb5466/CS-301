{
 "cells": [
  {
   "cell_type": "code",
   "execution_count": 2,
   "id": "354a3214",
   "metadata": {},
   "outputs": [],
   "source": [
    "import numpy as np\n",
    "import pandas as pd\n",
    "import matplotlib.pyplot as plt"
   ]
  },
  {
   "cell_type": "markdown",
   "id": "d6d43297",
   "metadata": {},
   "source": [
    "##### Read the National Health and Nutrition Examination Survey dataset (nhanes.csv) into a DataFrame\n",
    "\n",
    "- List out the info() about the DataFrame"
   ]
  },
  {
   "cell_type": "markdown",
   "id": "0908939a",
   "metadata": {},
   "source": [
    "[nhanes.csv](https://drive.google.com/file/d/1Og7XSFNcBCen6gSmbL_ECpiCvg5V0XZL/view?usp=sharing)"
   ]
  },
  {
   "cell_type": "code",
   "execution_count": 3,
   "id": "3c846082",
   "metadata": {},
   "outputs": [
    {
     "name": "stdout",
     "output_type": "stream",
     "text": [
      "<class 'pandas.core.frame.DataFrame'>\n",
      "RangeIndex: 10000 entries, 0 to 9999\n",
      "Data columns (total 76 columns):\n",
      " #   Column            Non-Null Count  Dtype  \n",
      "---  ------            --------------  -----  \n",
      " 0   ID                10000 non-null  int64  \n",
      " 1   SurveyYr          10000 non-null  object \n",
      " 2   Gender            10000 non-null  object \n",
      " 3   Age               10000 non-null  int64  \n",
      " 4   AgeDecade         9667 non-null   object \n",
      " 5   AgeMonths         4962 non-null   float64\n",
      " 6   Race1             10000 non-null  object \n",
      " 7   Race3             5000 non-null   object \n",
      " 8   Education         7221 non-null   object \n",
      " 9   MaritalStatus     7231 non-null   object \n",
      " 10  HHIncome          9189 non-null   object \n",
      " 11  HHIncomeMid       9189 non-null   float64\n",
      " 12  Poverty           9274 non-null   float64\n",
      " 13  HomeRooms         9931 non-null   float64\n",
      " 14  HomeOwn           9937 non-null   object \n",
      " 15  Work              7771 non-null   object \n",
      " 16  Weight            9922 non-null   float64\n",
      " 17  Length            543 non-null    float64\n",
      " 18  HeadCirc          88 non-null     float64\n",
      " 19  Height            9647 non-null   float64\n",
      " 20  BMI               9634 non-null   float64\n",
      " 21  BMICatUnder20yrs  1274 non-null   object \n",
      " 22  BMI_WHO           9603 non-null   object \n",
      " 23  Pulse             8563 non-null   float64\n",
      " 24  BPSysAve          8551 non-null   float64\n",
      " 25  BPDiaAve          8551 non-null   float64\n",
      " 26  BPSys1            8237 non-null   float64\n",
      " 27  BPDia1            8237 non-null   float64\n",
      " 28  BPSys2            8353 non-null   float64\n",
      " 29  BPDia2            8353 non-null   float64\n",
      " 30  BPSys3            8365 non-null   float64\n",
      " 31  BPDia3            8365 non-null   float64\n",
      " 32  Testosterone      4126 non-null   float64\n",
      " 33  DirectChol        8474 non-null   float64\n",
      " 34  TotChol           8474 non-null   float64\n",
      " 35  UrineVol1         9013 non-null   float64\n",
      " 36  UrineFlow1        8397 non-null   float64\n",
      " 37  UrineVol2         1478 non-null   float64\n",
      " 38  UrineFlow2        1476 non-null   float64\n",
      " 39  Diabetes          9858 non-null   object \n",
      " 40  DiabetesAge       629 non-null    float64\n",
      " 41  HealthGen         7539 non-null   object \n",
      " 42  DaysPhysHlthBad   7532 non-null   float64\n",
      " 43  DaysMentHlthBad   7534 non-null   float64\n",
      " 44  LittleInterest    1564 non-null   object \n",
      " 45  Depressed         1427 non-null   object \n",
      " 46  nPregnancies      2604 non-null   float64\n",
      " 47  nBabies           2416 non-null   float64\n",
      " 48  Age1stBaby        1884 non-null   float64\n",
      " 49  SleepHrsNight     7755 non-null   float64\n",
      " 50  SleepTrouble      7772 non-null   object \n",
      " 51  PhysActive        8326 non-null   object \n",
      " 52  PhysActiveDays    4663 non-null   float64\n",
      " 53  TVHrsDay          4859 non-null   object \n",
      " 54  CompHrsDay        4863 non-null   object \n",
      " 55  TVHrsDayChild     653 non-null    float64\n",
      " 56  CompHrsDayChild   653 non-null    float64\n",
      " 57  Alcohol12PlusYr   6580 non-null   object \n",
      " 58  AlcoholDay        4914 non-null   float64\n",
      " 59  AlcoholYear       5922 non-null   float64\n",
      " 60  SmokeNow          3211 non-null   object \n",
      " 61  Smoke100          7235 non-null   object \n",
      " 62  Smoke100n         7235 non-null   object \n",
      " 63  SmokeAge          3080 non-null   float64\n",
      " 64  Marijuana         4941 non-null   object \n",
      " 65  AgeFirstMarij     2891 non-null   float64\n",
      " 66  RegularMarij      4941 non-null   object \n",
      " 67  AgeRegMarij       1366 non-null   float64\n",
      " 68  HardDrugs         5765 non-null   object \n",
      " 69  SexEver           5767 non-null   object \n",
      " 70  SexAge            5540 non-null   float64\n",
      " 71  SexNumPartnLife   5725 non-null   float64\n",
      " 72  SexNumPartYear    4928 non-null   float64\n",
      " 73  SameSex           5768 non-null   object \n",
      " 74  SexOrientation    4842 non-null   object \n",
      " 75  PregnantNow       1696 non-null   object \n",
      "dtypes: float64(43), int64(2), object(31)\n",
      "memory usage: 5.8+ MB\n"
     ]
    }
   ],
   "source": [
    "df = pd.read_csv('nhanes.csv')\n",
    "df.info()"
   ]
  },
  {
   "cell_type": "markdown",
   "id": "b428d1a8",
   "metadata": {},
   "source": [
    "#### We are going to work with the 'BPSysAve' (Average of Systolic Blood Pressure) feature \n",
    "\n",
    "- List the descriptive statistics (mean, standard deviation, min, max, etc.) about that feature"
   ]
  },
  {
   "cell_type": "code",
   "execution_count": 7,
   "id": "fa73a87b",
   "metadata": {
    "scrolled": false
   },
   "outputs": [
    {
     "data": {
      "text/plain": [
       "count    8551.000000\n",
       "mean      118.154953\n",
       "std        17.248170\n",
       "min        76.000000\n",
       "25%       106.000000\n",
       "50%       116.000000\n",
       "75%       127.000000\n",
       "max       226.000000\n",
       "Name: BPSysAve, dtype: float64"
      ]
     },
     "execution_count": 7,
     "metadata": {},
     "output_type": "execute_result"
    }
   ],
   "source": [
    "df['BPSysAve'].describe()"
   ]
  },
  {
   "cell_type": "markdown",
   "id": "ea1f0909",
   "metadata": {},
   "source": [
    "#### Take 1000 random samples of at least 31 items from 'BPSysAve' and calculate the mean of each of those samples\n",
    "\n",
    "- Create an empty list and add each sample mean to the list\n",
    "- Once all the samples have been taken, convert the list to a Pandas Series (with dtype='float64')\n",
    "- Plot a probability density function (pdf) on the series.\n",
    "\n",
    "**What does the distribution of the pdf look like?**\n"
   ]
  },
  {
   "cell_type": "code",
   "execution_count": 17,
   "id": "78d33a2e",
   "metadata": {},
   "outputs": [
    {
     "data": {
      "text/plain": [
       "<Axes: ylabel='Density'>"
      ]
     },
     "execution_count": 17,
     "metadata": {},
     "output_type": "execute_result"
    },
    {
     "data": {
      "image/png": "[encoded data removed]",
      "text/plain": [
       "<Figure size 640x480 with 1 Axes>"
      ]
     },
     "metadata": {},
     "output_type": "display_data"
    }
   ],
   "source": [
    "ran_list = []\n",
    "for i in range(1000):\n",
    "    #index BPSysAve in dataframe, were taking a sample of 31 items and taking the mean of each entry\n",
    "    ran_list.append(df['BPSysAve'].sample(n=31,replace=False).mean())\n",
    "ser=pd.Series(data=ran_list, dtype='float64')\n",
    "ser.plot(kind='density')\n",
    "    \n"
   ]
  },
  {
   "cell_type": "markdown",
   "id": "bc2fa410",
   "metadata": {},
   "source": [
    "#### Compare the mean of the samples with the mean of the BPSysAve feature"
   ]
  },
  {
   "cell_type": "code",
   "execution_count": 13,
   "id": "3fd9aa81",
   "metadata": {},
   "outputs": [
    {
     "name": "stdout",
     "output_type": "stream",
     "text": [
      "Sample: 118.09818768935435\n",
      "Population: 118.15495263711847\n"
     ]
    }
   ],
   "source": [
    "print(\"Sample:\",ser.mean())\n",
    "print(\"Population:\",df['BPSysAve'].mean())"
   ]
  },
  {
   "cell_type": "markdown",
   "id": "be1a27ed",
   "metadata": {},
   "source": [
    "#### Create a histogram that shows a cumulative distribution function for the 1000 samples"
   ]
  },
  {
   "cell_type": "code",
   "execution_count": 18,
   "id": "60fd9675",
   "metadata": {},
   "outputs": [
    {
     "data": {
      "text/plain": [
       "(array([0.009, 0.047, 0.159, 0.35 , 0.581, 0.806, 0.932, 0.978, 0.995,\n",
       "        1.   ]),\n",
       " array([108.42857143, 110.49071429, 112.55285714, 114.615     ,\n",
       "        116.67714286, 118.73928571, 120.80142857, 122.86357143,\n",
       "        124.92571429, 126.98785714, 129.05      ]),\n",
       " [<matplotlib.patches.Polygon at 0x19b2d1674f0>])"
      ]
     },
     "execution_count": 18,
     "metadata": {},
     "output_type": "execute_result"
    },
    {
     "data": {
      "image/png": "[encoded data removed]",
      "text/plain": [
       "<Figure size 640x480 with 1 Axes>"
      ]
     },
     "metadata": {},
     "output_type": "display_data"
    }
   ],
   "source": [
    "plt.hist(ser,density=True,cumulative=True,label='CDF',histtype='stepfilled',alpha=0.8,color='red')"
   ]
  },
  {
   "cell_type": "code",
   "execution_count": null,
   "id": "b6d8aa7f",
   "metadata": {},
   "outputs": [],
   "source": []
  }
 ],
 "metadata": {
  "kernelspec": {
   "display_name": "Python 3 (ipykernel)",
   "language": "python",
   "name": "python3"
  },
  "language_info": {
   "codemirror_mode": {
    "name": "ipython",
    "version": 3
   },
   "file_extension": ".py",
   "mimetype": "text/x-python",
   "name": "python",
   "nbconvert_exporter": "python",
   "pygments_lexer": "ipython3",
   "version": "3.9.17"
  }
 },
 "nbformat": 4,
 "nbformat_minor": 5
}

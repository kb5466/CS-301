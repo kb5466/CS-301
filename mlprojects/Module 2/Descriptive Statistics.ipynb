{
 "cells": [
  {
   "cell_type": "markdown",
   "id": "b528ff94",
   "metadata": {},
   "source": [
    "## Statistics ##"
   ]
  },
  {
   "cell_type": "markdown",
   "id": "1a596241",
   "metadata": {},
   "source": [
    "### Random Sampling"
   ]
  },
  {
   "cell_type": "code",
   "execution_count": null,
   "id": "c24638b1",
   "metadata": {},
   "outputs": [],
   "source": [
    "# Import pandas package\n",
    "import pandas as pd"
   ]
  },
  {
   "cell_type": "code",
   "execution_count": null,
   "id": "278dcfdf",
   "metadata": {},
   "outputs": [],
   "source": [
    "# Load the dataset\n",
    "# Dataset contains 403 paintings (rows) and 69 features (columns)\n",
    "paintings = pd.read_csv('bob_ross.csv')\n",
    "\n",
    "# View dataframe\n",
    "# Dataframes with more than 60 rows only show the first 5 and last 5 rows\n",
    "paintings"
   ]
  },
  {
   "cell_type": "code",
   "execution_count": null,
   "id": "a3071362",
   "metadata": {},
   "outputs": [],
   "source": [
    "# Select a sample of 20 paintings, without replacement, from\n",
    "# the paintings dataframe\n",
    "sample20Paintings = paintings.sample(n=20, replace=False)\n",
    "\n",
    "# View dataframe containing the sampled of paintings\n",
    "# Dataframes with 60 or fewer rows show all rows\n",
    "sample20Paintings"
   ]
  },
  {
   "cell_type": "markdown",
   "id": "4751432f",
   "metadata": {},
   "source": [
    "### Descriptive Statistics"
   ]
  },
  {
   "cell_type": "markdown",
   "id": "9233d4fe",
   "metadata": {},
   "source": [
    "**Pandas descriptive statistics methods.**\n",
    "\n",
    "| Method\t| Parameters\t| Description | \n",
    "| :---- | ----- | :---- |\n",
    "| DataFrame.mean()  DataFrame.median()|\taxis=None  skipna=True | \tReturns the mean or median of the values over the requested axis. skipna=True excludes NA/null values. | \n",
    "| DataFrame.var()  DataFrame.std() | \taxis=None  skipna=True   ddof=1 | \tReturns the unbiased sample variance (divides by $ n - 1 $ ) or standard deviation of the values over the requested axis. The divisor used is n - ddof, where $ n $ represents the number of non-NA/null values and $ \\text{ddof} $ represents the degrees of freedom. | \n",
    "| DataFrame.min()  DataFrame.max() | \taxis=None  skipna=True | \tReturns the minimum or maximum of the values over the requested axis.| \n",
    "| DataFrame.quantile() | \tq=0.5   axis=None interpolation='linear' | \tReturns the value of the given quantile(s), q, over the requested axis. interpolation specifies the method to determine a quantile when the quantile lies between two values. | \n",
    "| DataFrame.skew() | \taxis=None  skipna=True | \tReturns the skewness of the values over the requested axis. | \n",
    "| DataFrame.kurtosis() | \taxis=None  skipna=True\t| Returns the kurtosis (fatness of the distribution's tails) of the values over the requested axis. Computes Fisher's definition of kurtosis where a normal distribution has 0 kurtosis. | \n",
    "| DataFrame.describe()\t| percentiles=None\t| Returns descriptive statistics. For numerical features, results include the count, mean, standard deviation, minimum, maximum, 0.25 quantile, 0.50 quantile or median, and 0.75 quantile. The returned percentiles can be modified with percentiles. | \n",
    "\n"
   ]
  },
  {
   "cell_type": "code",
   "execution_count": null,
   "id": "19f39880",
   "metadata": {},
   "outputs": [],
   "source": [
    "# Import pandas and matplotlib packages\n",
    "import pandas as pd\n",
    "import matplotlib.pyplot as plt  # used to create a histogram"
   ]
  },
  {
   "cell_type": "code",
   "execution_count": null,
   "id": "1f58deda",
   "metadata": {},
   "outputs": [],
   "source": [
    "# Load the dataset\n",
    "nhanes = pd.read_csv('nhanes.csv')  #National Health and Nutrition\n",
    "                                    #Examination Survey\n",
    "\n",
    "# View dataset (first/last 5 rows and the first/last 10 columns)\n",
    "nhanes"
   ]
  },
  {
   "cell_type": "code",
   "execution_count": null,
   "id": "0e5f2b72",
   "metadata": {},
   "outputs": [],
   "source": [
    "# Calculate a selection of descriptive statistics for all numeric\n",
    "# features with describe()\n",
    "\n",
    "## 45 numeric features in the dataset so not all can be shown\n",
    "nhanes.describe()"
   ]
  },
  {
   "cell_type": "code",
   "execution_count": null,
   "id": "f412eb2a",
   "metadata": {},
   "outputs": [],
   "source": [
    "# Calculate the mean for all numeric features in the dataframe\n",
    "\n",
    "## Specifying axis=0 returns the mean of each feature (column),\n",
    "## if axis=1, the mean of each instance (row) would be returned.\n",
    "\n",
    "nhanes.mean(axis=0, skipna=True, numeric_only=True)"
   ]
  },
  {
   "cell_type": "markdown",
   "id": "48a65273",
   "metadata": {},
   "source": [
    "## Examine the Pulse feature"
   ]
  },
  {
   "cell_type": "code",
   "execution_count": null,
   "id": "43e6663a",
   "metadata": {},
   "outputs": [],
   "source": [
    "# Visualize Pulse feature with a histogram\n",
    "plt.hist(x=nhanes['Pulse'])\n",
    "plt.show()"
   ]
  },
  {
   "cell_type": "code",
   "execution_count": null,
   "id": "2f4272bc",
   "metadata": {},
   "outputs": [],
   "source": [
    "# Show a Probability Density Function (pdf) of the Pulse feature\n",
    "nhanes['Pulse'].plot(kind='density')"
   ]
  },
  {
   "cell_type": "code",
   "execution_count": null,
   "id": "c9393dbc",
   "metadata": {},
   "outputs": [],
   "source": [
    "# Calculate a selection of descriptive statistics for a single feature\n",
    "# with describe()\n",
    "nhanes['Pulse'].describe()"
   ]
  },
  {
   "cell_type": "code",
   "execution_count": null,
   "id": "571f809e",
   "metadata": {},
   "outputs": [],
   "source": [
    "# Calculate the Pulse features' variance\n",
    "nhanes['Pulse'].var()"
   ]
  },
  {
   "cell_type": "code",
   "execution_count": null,
   "id": "595e6620",
   "metadata": {},
   "outputs": [],
   "source": [
    "# Calculate the Pulse features' skewness\n",
    "nhanes['Pulse'].skew()"
   ]
  },
  {
   "cell_type": "code",
   "execution_count": null,
   "id": "e76dbbf1",
   "metadata": {},
   "outputs": [],
   "source": [
    "# Calculate the Pulse features' kurtosis\n",
    "nhanes['Pulse'].kurtosis()"
   ]
  },
  {
   "cell_type": "markdown",
   "id": "47320c81",
   "metadata": {},
   "source": [
    "### Probability Distributions"
   ]
  },
  {
   "cell_type": "markdown",
   "id": "3b74c752",
   "metadata": {},
   "source": [
    "**SciPy functions for probability distributions.**\n",
    "| Distribution | \tFunctions | \tParameters | \tDescription &nbsp;&nbsp;&nbsp; &nbsp; &nbsp;&nbsp; &nbsp;&nbsp;&nbsp; &nbsp; &nbsp; &nbsp; &nbsp; &nbsp; &nbsp; &nbsp; | \n",
    "| :----- | :------------ | :-------------- | :-------------- | \n",
    "| Bernoulli\t| bernoulli.​​pmf(k, p)<br>bernoulli.cdf(k, p) | \t**p** sets the probability of a \"success\".\t | **bernoulli.pmf()** returns the probability **P(x = k)**, and the **bernoulli.cdf()** returns the probability **P(x ≤ k)** | \n",
    "| Binomial\t| binom.​​pmf(k, n, p)<br>binom.cdf(k, n, p) | \t**n** sets the number of observations. **p** sets the probability of a \"success\". | \t**binomial.pmf()** returns the probability **P(x = k)**, and the **binomial.cdf()** returns the probability **P(x ≤ k)**. | \n",
    "| Normal\t| ​​norm.pdf(x, loc, scale)<br>norm.cdf(x, loc, scale)\t| **loc µ** sets the mean and **scale 𝛔** sets the standard deviation. | \t**norm.pdf()** returns the density curve's value at x, and **norm.cdf()** returns the probability **P(X ≤ x)**. | \n",
    "| t | \tt.​​pdf(x, df)  t.cdf(x, df)\t| **df** sets the degrees of freedom for the distribution.\t| **t.pdf()** method returns the density curve's value at x, and **t.cdf()** returns the probability  **P(X ≤ x)**. | \n"
   ]
  },
  {
   "cell_type": "markdown",
   "id": "50097238",
   "metadata": {},
   "source": [
    "**Discrete Probability Distributions**"
   ]
  },
  {
   "cell_type": "code",
   "execution_count": 1,
   "id": "71045fe3",
   "metadata": {},
   "outputs": [],
   "source": [
    "# Import matplotlib package for graphing\n",
    "# Import distributions from scipy.stats\n",
    "import matplotlib.pyplot as plt\n",
    "from scipy.stats import bernoulli\n",
    "from scipy.stats import binom"
   ]
  },
  {
   "cell_type": "code",
   "execution_count": 2,
   "id": "4cf81a22",
   "metadata": {},
   "outputs": [
    {
     "data": {
      "image/png": "[encoded data removed]",
      "text/plain": [
       "<Figure size 640x480 with 1 Axes>"
      ]
     },
     "metadata": {},
     "output_type": "display_data"
    }
   ],
   "source": [
    "# Let X~Bernoulli(0.35)\n",
    "\n",
    "# Define possible values of X\n",
    "x = [0, 1]\n",
    "\n",
    "# Graph the probability distribution of X\n",
    "\n",
    "# Get bar heights from Bernoulli distribution\n",
    "plt.bar(x, height=bernoulli.pmf(k=x, p=0.35), width=0.75)\n",
    "plt.ylabel('Probability', fontsize=12)\n",
    "plt.xlabel(\"X\", fontsize=12)\n",
    "plt.xticks(ticks=x)  # add ticks for values of x\n",
    "plt.show()"
   ]
  },
  {
   "cell_type": "code",
   "execution_count": 3,
   "id": "29f8d3fc",
   "metadata": {},
   "outputs": [
    {
     "data": {
      "text/plain": [
       "0.65"
      ]
     },
     "execution_count": 3,
     "metadata": {},
     "output_type": "execute_result"
    }
   ],
   "source": [
    "# Let X~Bernoulli(0.35)\n",
    "\n",
    "# Calculate P(X=0) using pmf()\n",
    "bernoulli.pmf(k=0, p=0.35)"
   ]
  },
  {
   "cell_type": "code",
   "execution_count": 4,
   "id": "39783d81",
   "metadata": {},
   "outputs": [
    {
     "data": {
      "text/plain": [
       "0.35"
      ]
     },
     "execution_count": 4,
     "metadata": {},
     "output_type": "execute_result"
    }
   ],
   "source": [
    "# Let X~Bernoulli(0.35)\n",
    "\n",
    "# Calculate P(X=1) using pmf()\n",
    "bernoulli.pmf(k=1, p=0.35)"
   ]
  },
  {
   "cell_type": "code",
   "execution_count": 5,
   "id": "3f0fde3a",
   "metadata": {},
   "outputs": [
    {
     "data": {
      "text/plain": [
       "1.0"
      ]
     },
     "execution_count": 5,
     "metadata": {},
     "output_type": "execute_result"
    }
   ],
   "source": [
    "# Let X~Bernoulli(0.35)\n",
    "\n",
    "# Calculate the cumulative probability, P(X<=1) using cdf()\n",
    "## Note P(X<=1) = P(X=0)+P(X=1) which is all possible values for X\n",
    "bernoulli.cdf(k=1, p=0.35)"
   ]
  },
  {
   "cell_type": "code",
   "execution_count": 6,
   "id": "310cd9c4",
   "metadata": {},
   "outputs": [
    {
     "data": {
      "image/png": "[encoded data removed]",
      "text/plain": [
       "<Figure size 640x480 with 1 Axes>"
      ]
     },
     "metadata": {},
     "output_type": "display_data"
    }
   ],
   "source": [
    "# Let X~Binomial(15,0.35)\n",
    "\n",
    "# Define the possible values of X, specify range(0, n+1) to get whole numbers 0 to n.\n",
    "x = range(0, 15 + 1)\n",
    "\n",
    "# Graph the probability distribution of X\n",
    "# Get bar heights from binomial(15, 0.35) distribution\n",
    "plt.bar(x, height=binom.pmf(k=x, n=15, p=0.35), width=0.75)\n",
    "plt.ylabel('Probability', fontsize=12)\n",
    "plt.xlabel(\"X\", fontsize=12)\n",
    "plt.xticks(ticks=x)  # add ticks for values of x\n",
    "plt.show()"
   ]
  },
  {
   "cell_type": "code",
   "execution_count": 7,
   "id": "16f1eae0",
   "metadata": {},
   "outputs": [
    {
     "data": {
      "text/plain": [
       "5.246873442603196e-05"
      ]
     },
     "execution_count": 7,
     "metadata": {},
     "output_type": "execute_result"
    }
   ],
   "source": [
    "# Let X~Binomial(15,0.35)\n",
    "\n",
    "# The bar for X=13 is not visible on the graph, but P(X=13) is not zero\n",
    "binom.pmf(k=13, n=15, p=0.35)"
   ]
  },
  {
   "cell_type": "code",
   "execution_count": 8,
   "id": "1d2b2b5e",
   "metadata": {},
   "outputs": [
    {
     "data": {
      "text/plain": [
       "0.5642821112643028"
      ]
     },
     "execution_count": 8,
     "metadata": {},
     "output_type": "execute_result"
    }
   ],
   "source": [
    "# Let X~Binomial(15,0.35)\n",
    "\n",
    "# Calculate the cumulative proportion up to X=5, P(X<=5)\n",
    "binom.cdf(k=5, n=15, p=0.35)"
   ]
  },
  {
   "cell_type": "markdown",
   "id": "fa815dc1",
   "metadata": {},
   "source": [
    "**Continuous Probability Distributions**"
   ]
  },
  {
   "cell_type": "code",
   "execution_count": 9,
   "id": "dae39a15",
   "metadata": {},
   "outputs": [],
   "source": [
    "# Import matplotlib and numpy packages\n",
    "# Import distributions from scipy.stats\n",
    "import matplotlib.pyplot as plt\n",
    "import numpy as np\n",
    "from scipy.stats import norm\n",
    "from scipy.stats import t"
   ]
  },
  {
   "cell_type": "code",
   "execution_count": 10,
   "id": "b9e54435",
   "metadata": {},
   "outputs": [
    {
     "data": {
      "text/plain": [
       "0.15865525393145707"
      ]
     },
     "execution_count": 10,
     "metadata": {},
     "output_type": "execute_result"
    }
   ],
   "source": [
    "# Let X~Normal(10,2)\n",
    "# Calculate the probability of less than a value, P(X<=8), using cdf()\n",
    "norm.cdf(x=8, loc=10, scale=2)"
   ]
  },
  {
   "cell_type": "code",
   "execution_count": 11,
   "id": "441e1814",
   "metadata": {},
   "outputs": [
    {
     "data": {
      "text/plain": [
       "0.8413447460685429"
      ]
     },
     "execution_count": 11,
     "metadata": {},
     "output_type": "execute_result"
    }
   ],
   "source": [
    "# Let X~Normal(10,2)\n",
    "\n",
    "# Calculate the probability of greater than a value, P(X>8)=1-P(X<=8), using cdf()\n",
    "1 - norm.cdf(x=8, loc=10, scale=2)"
   ]
  },
  {
   "cell_type": "code",
   "execution_count": 12,
   "id": "df64d33d",
   "metadata": {},
   "outputs": [
    {
     "data": {
      "text/plain": [
       "0.6826894921370859"
      ]
     },
     "execution_count": 12,
     "metadata": {},
     "output_type": "execute_result"
    }
   ],
   "source": [
    "# Let X~Normal(10,2)\n",
    "\n",
    "# Calculate the probability between two values, P(8<X<12), using cdf()\n",
    "norm.cdf(x=12, loc=10, scale=2) - norm.cdf(x=8, loc=10, scale=2)"
   ]
  },
  {
   "cell_type": "code",
   "execution_count": 13,
   "id": "6c19dd39",
   "metadata": {},
   "outputs": [
    {
     "data": {
      "image/png": "[encoded data removed]",
      "text/plain": [
       "<Figure size 640x480 with 1 Axes>"
      ]
     },
     "metadata": {},
     "output_type": "display_data"
    }
   ],
   "source": [
    "# Let X~t(4)\n",
    "\n",
    "# Define some values of X to use to graph the density curve\n",
    "xvals = np.linspace(t.ppf(0.001, df=4), t.ppf(0.999, df=4), 100)\n",
    "\n",
    "# Graph the density curve for t(4)\n",
    "plt.plot(xvals, t.pdf(x=xvals, df=4))\n",
    "plt.ylabel('Density', fontsize=12)\n",
    "plt.xlabel(\"X\", fontsize=12)\n",
    "plt.show()"
   ]
  },
  {
   "cell_type": "code",
   "execution_count": 14,
   "id": "00a6259f",
   "metadata": {},
   "outputs": [
    {
     "data": {
      "text/plain": [
       "0.5"
      ]
     },
     "execution_count": 14,
     "metadata": {},
     "output_type": "execute_result"
    }
   ],
   "source": [
    "# Let X~t(4)\n",
    "\n",
    "# Calculate P(X<=0)\n",
    "t.cdf(x=0, df=4)"
   ]
  },
  {
   "cell_type": "code",
   "execution_count": 15,
   "id": "2d6344c0",
   "metadata": {},
   "outputs": [
    {
     "data": {
      "text/plain": [
       "0.11611652351681553"
      ]
     },
     "execution_count": 15,
     "metadata": {},
     "output_type": "execute_result"
    }
   ],
   "source": [
    "# Let X~t(4)\n",
    "\n",
    "# Calculate probability in the tails P(X < -2 or X > 2)\n",
    "t.cdf(x=-2, df=4) + (1 - t.cdf(x=2, df=4))"
   ]
  },
  {
   "cell_type": "code",
   "execution_count": 16,
   "id": "60d09929",
   "metadata": {},
   "outputs": [
    {
     "data": {
      "text/plain": [
       "0.1161165235168155"
      ]
     },
     "execution_count": 16,
     "metadata": {},
     "output_type": "execute_result"
    }
   ],
   "source": [
    "# Let X~t(4)\n",
    "\n",
    "# Using the symmetry of the t-distribution curve, calculate P(X < -2 or X > 2)\n",
    "t.cdf(x=-2, df=4) * 2"
   ]
  },
  {
   "cell_type": "code",
   "execution_count": null,
   "id": "bf47f34b",
   "metadata": {},
   "outputs": [],
   "source": []
  }
 ],
 "metadata": {
  "kernelspec": {
   "display_name": "Python 3 (ipykernel)",
   "language": "python",
   "name": "python3"
  },
  "language_info": {
   "codemirror_mode": {
    "name": "ipython",
    "version": 3
   },
   "file_extension": ".py",
   "mimetype": "text/x-python",
   "name": "python",
   "nbconvert_exporter": "python",
   "pygments_lexer": "ipython3",
   "version": "3.9.17"
  }
 },
 "nbformat": 4,
 "nbformat_minor": 5
}

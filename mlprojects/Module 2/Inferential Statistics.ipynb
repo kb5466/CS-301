{
 "cells": [
  {
   "cell_type": "markdown",
   "id": "25f61dcc",
   "metadata": {},
   "source": [
    "**Central Limit Theorem**\n",
    "\n",
    "The sampling distributions of many statistics of interest look similarly symmetric and bell-shaped. An important mathematical result, the Central Limit Theorem, specifies the conditions for which a statistic's sampling distribution will approximately follow a normal distribution. The **Central Limit Theorem** (CLT) states that if random samples of size  are drawn from a large population and  is large enough, then the sampling distribution of the sample mean will follow approximately a normal distribution. The CLT also applies to proportions since a proportion can be expressed as the mean of zeros and ones.\n",
    "\n"
   ]
  },
  {
   "cell_type": "markdown",
   "id": "82c92b6d",
   "metadata": {},
   "source": [
    "**Hypothesis testing**\n",
    "\n",
    "A hypothesis test is a method for evaluating a claim, or hypothesis, about a population parameter by examining the statistical evidence against the claim based on a sample. The conclusion of a hypothesis test is a decision that the observed data either indicate the claim is plausible or support an alternative explanation. The following steps outline the general process of conducting a hypothesis test.\n",
    "\n",
    "1.  State null and alternative hypotheses about parameters. **The null hypothesis**,*H<sub>0</sub>* , is typically the by-chance or no-effect explanation, and the **alternative hypothesis**, *H<sub>a</sub>* , is typically the explanation of an effect, or difference.\n",
    "2.  Calculate a statistic of interest from the sample data that is used to evaluate the null hypothesis.\n",
    "3.  Determine the p-value, or likelihood, of obtaining a statistic at least as extreme as the observed statistic when the null hypothesis is true.\n",
    "4.  Draw a conclusion about the null hypothesis based on the statistical evidence provided by the p-value.\n"
   ]
  },
  {
   "cell_type": "markdown",
   "id": "052e3c54",
   "metadata": {},
   "source": [
    "**Type I and type II errors**\n",
    "\n",
    "The decision from a hypothesis test is to either reject the null hypothesis or fail to reject the null hypothesis. The **significance level**, **𝛂**, of a hypothesis test is how small the p-value must be to conclude the data provide enough statistical evidence to reject the null hypothesis. The decision is to reject the null hypothesis if the p-value is less than or equal to **𝛂**, and fail to reject the null hypothesis if the p-value is greater than **𝛂**.\n",
    "\n",
    "In reality, either the null hypothesis is true or the alternative hypothesis is true. Thus, the conclusion from a hypothesis test is either correct or incorrect. Ex: Suppose the conclusion from a hypothesis test is that the data support a population mean commute time of 25 minutes. If the mean commute time of the population is actually about 25 minutes, then a correct decision is made. But, if the population mean commute time is actually 40 minutes, then an incorrect decision is made.\n",
    "\n",
    "- A **type I** error is rejecting the null hypothesis in favor of the alternative when in reality the null hypothesis is true.\n",
    "- A **type II** error is failing to reject the null hypothesis when in reality the alternative hypothesis is true.\n"
   ]
  },
  {
   "cell_type": "markdown",
   "id": "50cbdc21",
   "metadata": {},
   "source": [
    "**Estimation**\n",
    "\n",
    "Another inference method provides an estimate for the value of a population parameter. Ex: What is the mean moisture content for all compost produced in home compost bins? A **confidence interval** provides an interval of possible values for the parameter being estimated. A confidence interval is constructed using the general equation ***estimate ± margin of error***. The **estimate** is a statistic calculated from the sample data and gives an initial best guess for the parameter's value. The **margin of error** measures the precision of the estimate and includes:\n",
    "\n",
    "- the standard error, or measure of sampling variability, which comes from the statistic's sampling distribution, and\n",
    "- the confidence level, or measure of interval reliability.\n"
   ]
  },
  {
   "cell_type": "markdown",
   "id": "90c75cd6",
   "metadata": {},
   "source": [
    "**Inference for Proportions in Python**"
   ]
  },
  {
   "cell_type": "markdown",
   "id": "822452f9",
   "metadata": {},
   "source": [
    "**Functions for inference about proportions.**\n",
    "| Function\t| Parameters\t| Description |\n",
    "| :--------  | :----------    | :----------- |\n",
    "| proportions_ztest() |  **count**: number/array of successes<br>  **nobs**: number/array of observations<br>  **value**: value in the null hypothesis<br>  **alternative**: type of the alternative hypothesis<br>    **prop_var**=False: estimate variance based on sample proportions | Returns the test statistic and p-value for a hypothesis test based on a normal (z) test. **count** and **nobs** take a single value for a one proportion test and an array of values for a two proportion test. |\n",
    "| proportion_confint()\t| **count**: number of successes<br>  **nobs**: number of observations<br>  **alpha**: significance level<br>  **method='normal'**: use normal approximation to calculate interval\t| Returns a (1-alpha)100% confidence interval for a population proportion. |\n",
    "\n"
   ]
  },
  {
   "cell_type": "markdown",
   "id": "99c96960",
   "metadata": {},
   "source": [
    "**Inference for proportions in Python**\n",
    "\n",
    "The National Health and Nutrition Examination Survey (NHANES) is conducted every year to survey Americans about their health and nutrition. The dataset includes physical characteristics and behaviors, such as exercise and eating habits.\n",
    "\n",
    "Another study reported 7% of the US population has been diagnosed with diabetes in 2012. Determine whether the NHANES data provides statistical evidence in support or against the proportion of the US population diagnosed with diabetes in 2012 is 0.07.\n",
    "\n",
    "The code below uses the NHANES dataset to conduct a single-proportion hypothesis test using the additional study information given above, construct a confidence interval for a single proportion, and conduct a two-proportion hypothesis test comparing the proportion of the US population with diabetes for the 2009-10 and 2011-12 survey years.\n"
   ]
  },
  {
   "cell_type": "code",
   "execution_count": null,
   "id": "247ddef7",
   "metadata": {},
   "outputs": [],
   "source": [
    "# Import pandas package and functions from statsmodels\n",
    "import pandas as pd\n",
    "from statsmodels.stats.proportion import proportions_ztest\n",
    "from statsmodels.stats.proportion import proportion_confint"
   ]
  },
  {
   "cell_type": "code",
   "execution_count": null,
   "id": "0f8c2c05",
   "metadata": {},
   "outputs": [],
   "source": [
    "# Load the dataset\n",
    "nhanes = pd.read_csv('nhanes.csv')\n",
    "\n",
    "# View dataset (first/last 5 rows and the first/last 10 columns)\n",
    "nhanes"
   ]
  },
  {
   "cell_type": "code",
   "execution_count": null,
   "id": "8247c6e3",
   "metadata": {},
   "outputs": [],
   "source": [
    "# Conduct the hypothesis test for testing whether or not the population\n",
    "# proportion of U.S. adults diagnosed with diabetes in 2012 is 0.07\n",
    "\n",
    "# Subset full nhanes dataset to only include the 5000 instances from the\n",
    "# 2011_12 survey year\n",
    "\n",
    "nhanes2012 = nhanes[nhanes['SurveyYr'] == \"2011_12\"]\n",
    "\n",
    "# Find the total number in the 2012 sample diagnosed with\n",
    "# and without diabetes\n",
    "\n",
    "countDiabetes = nhanes2012['Diabetes'].value_counts()\n",
    "print(countDiabetes)\n",
    "\n",
    "# Find the total number of instances in 2012 for the Diabetes feature\n",
    "totalInstances2012 = countDiabetes['No'] + countDiabetes['Yes']\n",
    "print('2012 total:', totalInstances2012)\n",
    "\n",
    "# Find the sample proportion\n",
    "sampleProp2012 = countDiabetes['Yes'] / totalInstances2012\n",
    "print('sample proportion with diabetes =', sampleProp2012)\n",
    "\n",
    "# Find the z test statistic and p-value using proportions_ztest\n",
    "proportions_ztest(\n",
    "    count=countDiabetes['Yes'],\n",
    "    nobs=totalInstances2012,\n",
    "    value=0.07,\n",
    "    alternative='two-sided',\n",
    "    prop_var=0.07,\n",
    ")"
   ]
  },
  {
   "cell_type": "code",
   "execution_count": null,
   "id": "b7a4eaf0",
   "metadata": {},
   "outputs": [],
   "source": [
    "# The first value returned is the test statistic,\n",
    "# the second value is the p-value\n",
    "\n",
    "testStat, pvalue = proportions_ztest(\n",
    "    count=countDiabetes['Yes'],\n",
    "    nobs=totalInstances2012,\n",
    "    value=0.07,\n",
    "    alternative='two-sided',\n",
    "    prop_var=0.07,\n",
    ")\n",
    "\n",
    "print('z test statistic =', round(testStat, 3))\n",
    "print('p-value =', round(pvalue, 3))"
   ]
  },
  {
   "cell_type": "code",
   "execution_count": null,
   "id": "7ca61114",
   "metadata": {},
   "outputs": [],
   "source": [
    "# Find the 95% confidence interval for the proportion of all U.S. adults\n",
    "# in 2012 with diabetes\n",
    "\n",
    "proportion_confint(\n",
    "    count=countDiabetes['Yes'], nobs=totalInstances2012, alpha=0.05, method='normal'\n",
    ")"
   ]
  },
  {
   "cell_type": "code",
   "execution_count": null,
   "id": "8564fc8d",
   "metadata": {},
   "outputs": [],
   "source": [
    "# Conduct the hypothesis test for testing whether or not the population\n",
    "# proportions of U.S. adults diagnosed with diabetes are the same for\n",
    "# the 2009_10 and 2011_12 survey years\n",
    "\n",
    "# Find the total number in the sample diagnosed with diabetes for each\n",
    "# survey year\n",
    "\n",
    "countDiabetes2Yrs = nhanes[['SurveyYr', 'Diabetes']].value_counts()\n",
    "print(countDiabetes2Yrs)\n",
    "\n",
    "# Find the total number of instances in each survey year for the\n",
    "# Diabetes feature\n",
    "\n",
    "totalInstances2010 = (\n",
    "    countDiabetes2Yrs['2009_10', 'No'] + countDiabetes2Yrs['2009_10', 'Yes']\n",
    ")\n",
    "totalInstances2012 = (\n",
    "    countDiabetes2Yrs['2011_12', 'No'] + countDiabetes2Yrs['2011_12', 'Yes']\n",
    ")\n",
    "\n",
    "# Find the sample proportions and difference in sample proportions\n",
    "sampleProp2010 = countDiabetes2Yrs['2009_10', 'Yes'] / totalInstances2010\n",
    "sampleProp2012 = countDiabetes2Yrs['2011_12', 'Yes'] / totalInstances2012\n",
    "\n",
    "sampleDiff = sampleProp2012 - sampleProp2010\n",
    "print('2010 sample proportion with diabetes =', sampleProp2010)\n",
    "print('2012 sample proportion with diabetes =', sampleProp2012)\n",
    "print('2012 proportion - 2010 proportion =', sampleDiff)\n",
    "\n",
    "# Find the overall proportion of diabetes for calculating\n",
    "# the test statistic\n",
    "\n",
    "overallSampleProp = (\n",
    "    countDiabetes2Yrs['2009_10', 'Yes'] + countDiabetes2Yrs['2011_12', 'Yes']\n",
    ") / (totalInstances2010 + totalInstances2012)\n",
    "\n",
    "# Find the z test statistic and p-value using proportions_ztest\n",
    "proportions_ztest(\n",
    "    count=[countDiabetes2Yrs['2011_12', 'Yes'], countDiabetes2Yrs['2009_10', 'Yes']],\n",
    "    nobs=[totalInstances2012, totalInstances2010],\n",
    "    value=0,\n",
    "    alternative='two-sided',\n",
    "    prop_var=overallSampleProp,\n",
    ")"
   ]
  },
  {
   "cell_type": "code",
   "execution_count": null,
   "id": "85f8fd42",
   "metadata": {},
   "outputs": [],
   "source": [
    "# Known counts, sample sizes, and overall proportion can specify directly\n",
    "# into the proportions_ztest() function\n",
    "knownCounts = [373, 387]\n",
    "knownNobs = [4936, 4922]\n",
    "knownOverallSampleProp = (373 + 387) / (4936 + 4922)\n",
    "\n",
    "proportions_ztest(\n",
    "    count=knownCounts,\n",
    "    nobs=knownNobs,\n",
    "    value=0,\n",
    "    alternative='two-sided',\n",
    "    prop_var=knownOverallSampleProp,\n",
    ")"
   ]
  },
  {
   "cell_type": "markdown",
   "id": "3e548496",
   "metadata": {},
   "source": [
    "**Functions for inference about means.**\n",
    "| Function\t| Parameters\t| Description |\n",
    "| :-------  | :----------   | :---------- |\n",
    "| ttest_1samp()\t| **a**: array of values<BR>**popmean**: value in null hypothesis<br>**alternative**: type of alternative hypothesis | Returns the **t**-statistic and p-value from a one-sample **t**-test for the null hypothesis that the population mean of a sample, a, is equal to a specified value. |\n",
    "| ttest_ind()\t| **a**: array of values from sample 1<br>**b**: array of values from sample 2<br>**equal_var=False**: assumes non-equal variances<br>**alternative**: type of alternative hypothesis\t| Returns the **t**-statistic and p-value from a two-sample **t**-test for the null hypothesis that two independent samples, a and b, have equal population means.|"
   ]
  },
  {
   "cell_type": "markdown",
   "id": "ae8e5bba",
   "metadata": {},
   "source": [
    "**Inference for means in Python.**\n",
    "\n",
    "Doctors recommend that adults sleep at least 7 hours per night. The SleepHrsNight feature in the NHANES dataset is the self-reported number of hours participants usually get at night for participants aged 16 and older. Determine whether the NHANES data provides statistical evidence that the population mean self-reported number of hours of sleep per night is 7 or whether the population mean is less than 7.\n",
    "\n",
    "The code below uses the NHANES dataset to conduct a single mean hypothesis test using the additional information given above, construct a confidence interval for a single mean, and conduct a hypothesis test for two independent means comparing the population mean self-reported number of hours of sleep per night for the 2009-10 and 2011-12 survey years.\n"
   ]
  },
  {
   "cell_type": "code",
   "execution_count": null,
   "id": "7d810315",
   "metadata": {},
   "outputs": [],
   "source": [
    "# Import pandas and numpy packages and functions from scipy.stats \n",
    "import pandas as pd\n",
    "import numpy as np\n",
    "from scipy.stats import ttest_1samp\n",
    "from scipy.stats import ttest_ind\n",
    "from scipy.stats import t\n"
   ]
  },
  {
   "cell_type": "code",
   "execution_count": null,
   "id": "4c3ea524",
   "metadata": {},
   "outputs": [],
   "source": [
    "# Load the dataset\n",
    "nhanes = pd.read_csv('nhanes.csv')\n",
    "\n",
    "# View dataset (first/last 5 rows and the first/last 10 columns)\n",
    "nhanes"
   ]
  },
  {
   "cell_type": "code",
   "execution_count": null,
   "id": "f554e44b",
   "metadata": {},
   "outputs": [],
   "source": [
    "# Find descriptive statistics for SleepHrsNight feature\n",
    "# A total of count=7755 instances have a value for the feature\n",
    "\n",
    "nhanes['SleepHrsNight'].describe()"
   ]
  },
  {
   "cell_type": "code",
   "execution_count": null,
   "id": "c0b5e077",
   "metadata": {},
   "outputs": [],
   "source": [
    "# Subset dataset to drop instances with missing values for the\n",
    "# SleepHrsNight feature\n",
    "\n",
    "nhanesSleep = nhanes.dropna(axis=0, subset=['SleepHrsNight'])\n",
    "nhanesSleep"
   ]
  },
  {
   "cell_type": "code",
   "execution_count": null,
   "id": "913977b1",
   "metadata": {},
   "outputs": [],
   "source": [
    "# Conduct the hypothesis test for testing whether the population mean\n",
    "# self-reported number of hours of sleep per night is 7 or whether\n",
    "# the population mean is less than 7\n",
    "\n",
    "ttest_1samp(a=nhanesSleep['SleepHrsNight'], popmean=7, alternative='less')"
   ]
  },
  {
   "cell_type": "code",
   "execution_count": null,
   "id": "9071100d",
   "metadata": {},
   "outputs": [],
   "source": [
    "# Construct a 95% confidence interval for the population mean\n",
    "\n",
    "# Find sample mean, sample standard deviation, and sample size\n",
    "sampleMean = nhanesSleep['SleepHrsNight'].mean()\n",
    "sampleStDev = nhanesSleep['SleepHrsNight'].std()\n",
    "sampleSize = nhanesSleep['SleepHrsNight'].count()\n",
    "\n",
    "# Find multiplier using confidence Level and t-distribution\n",
    "confLevel = 0.95\n",
    "tMult = t.ppf(q=1 - ((1 - confLevel) / 2), df=sampleSize - 1)\n",
    "\n",
    "# Construct interval using general equation:\n",
    "# estimate +/- multiplier * standard deviation\n",
    "\n",
    "lowerBound = sampleMean - tMult * (sampleStDev / sampleSize**0.5)\n",
    "upperBound = sampleMean + tMult * (sampleStDev / sampleSize**0.5)\n",
    "\n",
    "print(lowerBound, upperBound)"
   ]
  },
  {
   "cell_type": "code",
   "execution_count": null,
   "id": "6b878ab3",
   "metadata": {},
   "outputs": [],
   "source": [
    "# Conduct the hypothesis test for testing whether or not the population\n",
    "# mean self-reported number of hours of sleep per night is the same for\n",
    "# the 2009_10 and 2011_12 survey years\n",
    "\n",
    "# Find descriptive statistics for SleepHrsNight feature for each survey year\n",
    "# Provides an initial comparison of the two samples, notice similar means\n",
    "\n",
    "statsByYear = nhanes.groupby(['SurveyYr'])['SleepHrsNight'].describe()\n",
    "print(statsByYear)\n",
    "\n",
    "# Find statistic and p-value using ttest_ind()\n",
    "ttest_ind(\n",
    "    a=nhanes[nhanes['SurveyYr'] == '2009_10']['SleepHrsNight'],\n",
    "    b=nhanes[nhanes['SurveyYr'] == '2011_12']['SleepHrsNight'],\n",
    "    equal_var=False,\n",
    "    nan_policy='omit',\n",
    "    alternative='two-sided',\n",
    ")"
   ]
  },
  {
   "cell_type": "markdown",
   "id": "33f9b954",
   "metadata": {},
   "source": [
    "**Are flight delays more likely at JFK or LaGuardia?**\n",
    "\n",
    "The Port Authority is concerned that a difference exists between the proportion of flights delayed at JFK Airport compared to LaGuardia Airport. Whether or not a flight is delayed is categorical with two possible outcomes: \"delay\" ('delay'=1) or \"no delay\" ('delay'=0). Since the proportion of delays is being compared for two airports, a hypothesis test for two independent proportions is most appropriate.\n",
    "\n"
   ]
  },
  {
   "cell_type": "code",
   "execution_count": null,
   "id": "e055808a",
   "metadata": {},
   "outputs": [],
   "source": [
    "# Import packages\n",
    "import numpy as np\n",
    "import pandas as pd\n",
    "import matplotlib.pyplot as plt\n",
    "from statsmodels.stats.proportion import proportions_ztest\n",
    "from scipy.stats import ttest_ind\n",
    "\n",
    "# Load the flights dataset\n",
    "flights = pd.read_csv('flights.csv').dropna()\n",
    "flights"
   ]
  },
  {
   "cell_type": "code",
   "execution_count": null,
   "id": "8a27cea8",
   "metadata": {},
   "outputs": [],
   "source": [
    "# Define dataframes for each origin airport\n",
    "EWR = flights[flights['origin'] == 'EWR']\n",
    "JFK = flights[flights['origin'] == 'JFK']\n",
    "LGA = flights[flights['origin'] == 'LGA']"
   ]
  },
  {
   "cell_type": "code",
   "execution_count": null,
   "id": "4cff719a",
   "metadata": {},
   "outputs": [],
   "source": [
    "all_counts = flights['delay'].value_counts()\n",
    "all_counts"
   ]
  },
  {
   "cell_type": "code",
   "execution_count": null,
   "id": "162dde16",
   "metadata": {},
   "outputs": [],
   "source": [
    "# Plot whether flights from all NY airports were delayed or not\n",
    "plt.bar(x=['No delay', 'Delay'], height=all_counts)\n",
    "plt.title('All New York City flights', fontsize=16)\n",
    "plt.xlabel('Flight status', fontsize=14)\n",
    "plt.ylabel('Count', fontsize=14)"
   ]
  },
  {
   "cell_type": "code",
   "execution_count": null,
   "id": "e52fb5e4",
   "metadata": {},
   "outputs": [],
   "source": [
    "JFK_counts = JFK['delay'].value_counts()\n",
    "JFK_counts"
   ]
  },
  {
   "cell_type": "code",
   "execution_count": null,
   "id": "8661e214",
   "metadata": {},
   "outputs": [],
   "source": [
    "# Plot whether flights from JFK were delayed or not\n",
    "plt.bar(x=['No delay', 'Delay'], height=JFK_counts)\n",
    "plt.title('Flights from JFK', fontsize=16)\n",
    "plt.xlabel('Flight status', fontsize=14)\n",
    "plt.ylabel('Count', fontsize=14)"
   ]
  },
  {
   "cell_type": "code",
   "execution_count": null,
   "id": "c7740a37",
   "metadata": {},
   "outputs": [],
   "source": [
    "LGA_counts = LGA['delay'].value_counts()\n",
    "LGA_counts"
   ]
  },
  {
   "cell_type": "code",
   "execution_count": null,
   "id": "7d222c28",
   "metadata": {},
   "outputs": [],
   "source": [
    "# Plot whether flights from LGA were delayed or not\n",
    "plt.bar(x=['No delay', 'Delay'], height=LGA_counts)\n",
    "plt.title('Flights from LGA', fontsize=16)\n",
    "plt.xlabel('Flight status', fontsize=14)\n",
    "plt.ylabel('Count', fontsize=14)"
   ]
  },
  {
   "cell_type": "markdown",
   "id": "4241e10b",
   "metadata": {},
   "source": [
    "Suppose the two closest airports are JFK and LGA. Which airport is best for avoiding delays?"
   ]
  },
  {
   "cell_type": "code",
   "execution_count": null,
   "id": "15c59ce4",
   "metadata": {},
   "outputs": [],
   "source": [
    "sample_prop = (JFK_counts[1] + LGA_counts[1]) / (len(JFK) + len(LGA))\n",
    "sample_prop"
   ]
  },
  {
   "cell_type": "code",
   "execution_count": null,
   "id": "7fe244ad",
   "metadata": {},
   "outputs": [],
   "source": [
    "proportions_ztest(\n",
    "    count=[JFK_counts[1], LGA_counts[1]],\n",
    "    nobs=[len(JFK), len(LGA)],\n",
    "    value=0,\n",
    "    alternative='two-sided',\n",
    "    prop_var=sample_prop,\n",
    ")"
   ]
  },
  {
   "cell_type": "markdown",
   "id": "477b1aa3",
   "metadata": {},
   "source": [
    "**Is there a significant difference in the duration of a delay?**\n",
    "\n",
    "The Port Authority found evidence of a difference in the proportion of delayed flights between JFK and LGA. But, whether or not a flight's departure is delayed is not the only consideration. A traveler might be willing to deal with a 5-minute departure delay, but a 30-minute departure delay is much more inconvenient. How does the average length of departure delay compare at JFK vs. LGA?"
   ]
  },
  {
   "cell_type": "code",
   "execution_count": null,
   "id": "eaf0f607",
   "metadata": {},
   "outputs": [],
   "source": [
    "# Subset to only the flights from JFK and summarize\n",
    "JFK = flights[flights['origin'] == 'JFK']\n",
    "JFK.describe()"
   ]
  },
  {
   "cell_type": "code",
   "execution_count": null,
   "id": "466e6206",
   "metadata": {},
   "outputs": [],
   "source": [
    "# Subset to the only the delayed flights from JFK and summarize\n",
    "JFK_delays = JFK[JFK['delay'] == 1]\n",
    "JFK_delays.describe()"
   ]
  },
  {
   "cell_type": "code",
   "execution_count": null,
   "id": "8970a064",
   "metadata": {},
   "outputs": [],
   "source": [
    "# Subset to only the flights from LGA and summarize\n",
    "LGA = flights[flights['origin'] == 'LGA']\n",
    "LGA.describe()"
   ]
  },
  {
   "cell_type": "code",
   "execution_count": null,
   "id": "b051c062",
   "metadata": {},
   "outputs": [],
   "source": [
    "# Subset to only the delayed flights from LGA and summarize\n",
    "LGA_delays = LGA[LGA['delay'] == 1]\n",
    "LGA_delays.describe()"
   ]
  },
  {
   "cell_type": "code",
   "execution_count": null,
   "id": "35ffc837",
   "metadata": {},
   "outputs": [],
   "source": [
    "# Run a t-test on the length of departure delay between the JFK and LGA\n",
    "ttest_ind(\n",
    "    a=JFK['dep_delay'],\n",
    "    b=LGA['dep_delay'],\n",
    "    equal_var=False,\n",
    "    nan_policy='omit',\n",
    "    alternative='two-sided',\n",
    ")"
   ]
  },
  {
   "cell_type": "code",
   "execution_count": null,
   "id": "7cabc915",
   "metadata": {},
   "outputs": [],
   "source": [
    "# Plot the distribution of JFK's delays\n",
    "plt.hist(JFK['dep_delay'])\n",
    "plt.xlabel('Delay (minutes)', fontsize=14)\n",
    "plt.ylabel('Counts', fontsize=14)\n",
    "plt.title('Delays at JFK', fontsize=16)"
   ]
  },
  {
   "cell_type": "code",
   "execution_count": null,
   "id": "e7aafff6",
   "metadata": {},
   "outputs": [],
   "source": [
    "# Plot the distribution of LGA's delays\n",
    "plt.hist(LGA['dep_delay'])\n",
    "plt.xlabel('Delay (minutes)', fontsize=14)\n",
    "plt.ylabel('Counts', fontsize=14)\n",
    "plt.title('Delays at LGA', fontsize=16)"
   ]
  },
  {
   "cell_type": "markdown",
   "id": "2d9dc281",
   "metadata": {},
   "source": [
    "**Practical significance**\n",
    "\n",
    "A difference between two groups is practically significant if the difference is large enough to have a real-life consequence. Based on the previous analysis, the average departure delay at JFK was about 11 minutes, and the average departure delay at LGA was about 10 minutes. The hypothesis test found strong statistical evidence of a difference in the average length of departure delay. However, statistical evidence does not necessarily equate to practical significance.\n",
    "\n",
    "Suppose the average flight delay from JFK was 1 minute, and the average flight delay from LGA was 2 minutes. An additional minute on a flight delay is not likely to cause someone to miss an important meeting or a connecting flight, so the difference is not practically significant.\n",
    "Suppose the average flight delay from JFK was 1 minute, and the average flight delay from LGA was 31 minutes. An additional 30 minutes on a flight delay is more likely to cause someone to miss an important meeting or a connecting flight, so the difference is practically significant.\n"
   ]
  },
  {
   "cell_type": "code",
   "execution_count": null,
   "id": "0f260dab",
   "metadata": {},
   "outputs": [],
   "source": [
    "# Create subset of only the flights from JFK and LGA\n",
    "JFK = flights[flights['origin'] == 'JFK']\n",
    "LGA = flights[flights['origin'] == 'LGA']"
   ]
  },
  {
   "cell_type": "code",
   "execution_count": null,
   "id": "da2f7c55",
   "metadata": {},
   "outputs": [],
   "source": [
    "# Create overlapping histograms to compare the\n",
    "# distribution of departure delays\n",
    "plt.hist(JFK['dep_delay'], edgecolor='black', alpha=0.5, label='JFK')\n",
    "plt.hist(LGA['dep_delay'], edgecolor='black', alpha=0.5, label='LGA')\n",
    "plt.xlabel('Delay (minutes)', fontsize=14)\n",
    "plt.ylabel('Counts', fontsize=14)\n",
    "plt.legend(fontsize=12)"
   ]
  },
  {
   "cell_type": "code",
   "execution_count": null,
   "id": "1cb439a7",
   "metadata": {},
   "outputs": [],
   "source": []
  }
 ],
 "metadata": {
  "kernelspec": {
   "display_name": "Python 3 (ipykernel)",
   "language": "python",
   "name": "python3"
  },
  "language_info": {
   "codemirror_mode": {
    "name": "ipython",
    "version": 3
   },
   "file_extension": ".py",
   "mimetype": "text/x-python",
   "name": "python",
   "nbconvert_exporter": "python",
   "pygments_lexer": "ipython3",
   "version": "3.9.17"
  }
 },
 "nbformat": 4,
 "nbformat_minor": 5
}

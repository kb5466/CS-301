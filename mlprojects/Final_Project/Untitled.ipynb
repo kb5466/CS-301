{
 "cells": [
  {
   "cell_type": "code",
   "execution_count": 34,
   "id": "e74e4010",
   "metadata": {},
   "outputs": [],
   "source": [
    "import pandas as pd\n",
    "import numpy as np\n",
    "import matplotlib.pyplot as plt\n",
    "from sklearn import preprocessing\n",
    "from sklearn.model_selection import train_test_split\n",
    "from sklearn.impute import SimpleImputer\n",
    "from sklearn.linear_model import LinearRegression\n",
    "from sklearn.feature_selection import r_regression"
   ]
  },
  {
   "cell_type": "markdown",
   "id": "f048840a",
   "metadata": {},
   "source": [
    "# Data Preprocessing"
   ]
  },
  {
   "cell_type": "code",
   "execution_count": 35,
   "id": "4ab8a06b",
   "metadata": {},
   "outputs": [],
   "source": [
    "#data processing\n",
    "df = pd.read_csv(\"meat_consumption_worldwide.csv\")"
   ]
  },
  {
   "cell_type": "code",
   "execution_count": 36,
   "id": "09f61364",
   "metadata": {},
   "outputs": [
    {
     "data": {
      "text/html": [
       "<div>\n",
       "<style scoped>\n",
       "    .dataframe tbody tr th:only-of-type {\n",
       "        vertical-align: middle;\n",
       "    }\n",
       "\n",
       "    .dataframe tbody tr th {\n",
       "        vertical-align: top;\n",
       "    }\n",
       "\n",
       "    .dataframe thead th {\n",
       "        text-align: right;\n",
       "    }\n",
       "</style>\n",
       "<table border=\"1\" class=\"dataframe\">\n",
       "  <thead>\n",
       "    <tr style=\"text-align: right;\">\n",
       "      <th></th>\n",
       "      <th>LOCATION</th>\n",
       "      <th>SUBJECT</th>\n",
       "      <th>MEASURE</th>\n",
       "      <th>TIME</th>\n",
       "      <th>Value</th>\n",
       "    </tr>\n",
       "  </thead>\n",
       "  <tbody>\n",
       "    <tr>\n",
       "      <th>0</th>\n",
       "      <td>AUS</td>\n",
       "      <td>BEEF</td>\n",
       "      <td>KG_CAP</td>\n",
       "      <td>1991</td>\n",
       "      <td>27.721815</td>\n",
       "    </tr>\n",
       "    <tr>\n",
       "      <th>1</th>\n",
       "      <td>AUS</td>\n",
       "      <td>BEEF</td>\n",
       "      <td>KG_CAP</td>\n",
       "      <td>1992</td>\n",
       "      <td>26.199591</td>\n",
       "    </tr>\n",
       "    <tr>\n",
       "      <th>2</th>\n",
       "      <td>AUS</td>\n",
       "      <td>BEEF</td>\n",
       "      <td>KG_CAP</td>\n",
       "      <td>1993</td>\n",
       "      <td>26.169094</td>\n",
       "    </tr>\n",
       "    <tr>\n",
       "      <th>3</th>\n",
       "      <td>AUS</td>\n",
       "      <td>BEEF</td>\n",
       "      <td>KG_CAP</td>\n",
       "      <td>1994</td>\n",
       "      <td>25.456134</td>\n",
       "    </tr>\n",
       "    <tr>\n",
       "      <th>4</th>\n",
       "      <td>AUS</td>\n",
       "      <td>BEEF</td>\n",
       "      <td>KG_CAP</td>\n",
       "      <td>1995</td>\n",
       "      <td>25.340226</td>\n",
       "    </tr>\n",
       "  </tbody>\n",
       "</table>\n",
       "</div>"
      ],
      "text/plain": [
       "  LOCATION SUBJECT MEASURE  TIME      Value\n",
       "0      AUS    BEEF  KG_CAP  1991  27.721815\n",
       "1      AUS    BEEF  KG_CAP  1992  26.199591\n",
       "2      AUS    BEEF  KG_CAP  1993  26.169094\n",
       "3      AUS    BEEF  KG_CAP  1994  25.456134\n",
       "4      AUS    BEEF  KG_CAP  1995  25.340226"
      ]
     },
     "execution_count": 36,
     "metadata": {},
     "output_type": "execute_result"
    }
   ],
   "source": [
    "df.head()"
   ]
  },
  {
   "cell_type": "code",
   "execution_count": 4,
   "id": "414c5d06",
   "metadata": {},
   "outputs": [],
   "source": [
    "cols_with_missing = pd.Series(['TIME','Value'])"
   ]
  },
  {
   "cell_type": "code",
   "execution_count": 5,
   "id": "6b2928b3",
   "metadata": {},
   "outputs": [],
   "source": [
    "#changes value if exactly 0 to nan\n",
    "df[cols_with_missing]=df[cols_with_missing].replace(0,np.nan)"
   ]
  },
  {
   "cell_type": "code",
   "execution_count": 6,
   "id": "fc77a8cf",
   "metadata": {
    "scrolled": true
   },
   "outputs": [
    {
     "name": "stdout",
     "output_type": "stream",
     "text": [
      "  LOCATION SUBJECT MEASURE  TIME      Value\n",
      "0      AUS    BEEF  KG_CAP  1991  27.721815\n",
      "1      AUS    BEEF  KG_CAP  1992  26.199591\n",
      "2      AUS    BEEF  KG_CAP  1993  26.169094\n",
      "3      AUS    BEEF  KG_CAP  1994  25.456134\n",
      "4      AUS    BEEF  KG_CAP  1995  25.340226\n",
      "5      AUS    BEEF  KG_CAP  1996  27.259104\n",
      "6      AUS    BEEF  KG_CAP  1997  28.802913\n",
      "7      AUS    BEEF  KG_CAP  1998  26.590477\n",
      "8      AUS    BEEF  KG_CAP  1999  27.918283\n",
      "9      AUS    BEEF  KG_CAP  2000  26.354624\n",
      "LOCATION    0\n",
      "SUBJECT     0\n",
      "MEASURE     0\n",
      "TIME        0\n",
      "Value       0\n",
      "dtype: int64\n"
     ]
    }
   ],
   "source": [
    "print(df.head(10))\n",
    "print(df.isnull().sum())"
   ]
  },
  {
   "cell_type": "code",
   "execution_count": 33,
   "id": "d7a76168",
   "metadata": {},
   "outputs": [
    {
     "data": {
      "text/html": [
       "<div>\n",
       "<style scoped>\n",
       "    .dataframe tbody tr th:only-of-type {\n",
       "        vertical-align: middle;\n",
       "    }\n",
       "\n",
       "    .dataframe tbody tr th {\n",
       "        vertical-align: top;\n",
       "    }\n",
       "\n",
       "    .dataframe thead th {\n",
       "        text-align: right;\n",
       "    }\n",
       "</style>\n",
       "<table border=\"1\" class=\"dataframe\">\n",
       "  <thead>\n",
       "    <tr style=\"text-align: right;\">\n",
       "      <th></th>\n",
       "      <th>MEASURE</th>\n",
       "      <th>TIME</th>\n",
       "      <th>Value</th>\n",
       "      <th>LOCATION_ARG</th>\n",
       "      <th>LOCATION_AUS</th>\n",
       "      <th>LOCATION_BGD</th>\n",
       "      <th>LOCATION_BRA</th>\n",
       "      <th>LOCATION_BRICS</th>\n",
       "      <th>LOCATION_CAN</th>\n",
       "      <th>LOCATION_CHE</th>\n",
       "      <th>...</th>\n",
       "      <th>LOCATION_URY</th>\n",
       "      <th>LOCATION_USA</th>\n",
       "      <th>LOCATION_VNM</th>\n",
       "      <th>LOCATION_WLD</th>\n",
       "      <th>LOCATION_ZAF</th>\n",
       "      <th>LOCATION_ZMB</th>\n",
       "      <th>SUBJECT_BEEF</th>\n",
       "      <th>SUBJECT_PIG</th>\n",
       "      <th>SUBJECT_POULTRY</th>\n",
       "      <th>SUBJECT_SHEEP</th>\n",
       "    </tr>\n",
       "  </thead>\n",
       "  <tbody>\n",
       "    <tr>\n",
       "      <th>0</th>\n",
       "      <td>KG_CAP</td>\n",
       "      <td>1991</td>\n",
       "      <td>27.721815</td>\n",
       "      <td>False</td>\n",
       "      <td>True</td>\n",
       "      <td>False</td>\n",
       "      <td>False</td>\n",
       "      <td>False</td>\n",
       "      <td>False</td>\n",
       "      <td>False</td>\n",
       "      <td>...</td>\n",
       "      <td>False</td>\n",
       "      <td>False</td>\n",
       "      <td>False</td>\n",
       "      <td>False</td>\n",
       "      <td>False</td>\n",
       "      <td>False</td>\n",
       "      <td>True</td>\n",
       "      <td>False</td>\n",
       "      <td>False</td>\n",
       "      <td>False</td>\n",
       "    </tr>\n",
       "    <tr>\n",
       "      <th>1</th>\n",
       "      <td>KG_CAP</td>\n",
       "      <td>1992</td>\n",
       "      <td>26.199591</td>\n",
       "      <td>False</td>\n",
       "      <td>True</td>\n",
       "      <td>False</td>\n",
       "      <td>False</td>\n",
       "      <td>False</td>\n",
       "      <td>False</td>\n",
       "      <td>False</td>\n",
       "      <td>...</td>\n",
       "      <td>False</td>\n",
       "      <td>False</td>\n",
       "      <td>False</td>\n",
       "      <td>False</td>\n",
       "      <td>False</td>\n",
       "      <td>False</td>\n",
       "      <td>True</td>\n",
       "      <td>False</td>\n",
       "      <td>False</td>\n",
       "      <td>False</td>\n",
       "    </tr>\n",
       "    <tr>\n",
       "      <th>2</th>\n",
       "      <td>KG_CAP</td>\n",
       "      <td>1993</td>\n",
       "      <td>26.169094</td>\n",
       "      <td>False</td>\n",
       "      <td>True</td>\n",
       "      <td>False</td>\n",
       "      <td>False</td>\n",
       "      <td>False</td>\n",
       "      <td>False</td>\n",
       "      <td>False</td>\n",
       "      <td>...</td>\n",
       "      <td>False</td>\n",
       "      <td>False</td>\n",
       "      <td>False</td>\n",
       "      <td>False</td>\n",
       "      <td>False</td>\n",
       "      <td>False</td>\n",
       "      <td>True</td>\n",
       "      <td>False</td>\n",
       "      <td>False</td>\n",
       "      <td>False</td>\n",
       "    </tr>\n",
       "    <tr>\n",
       "      <th>3</th>\n",
       "      <td>KG_CAP</td>\n",
       "      <td>1994</td>\n",
       "      <td>25.456134</td>\n",
       "      <td>False</td>\n",
       "      <td>True</td>\n",
       "      <td>False</td>\n",
       "      <td>False</td>\n",
       "      <td>False</td>\n",
       "      <td>False</td>\n",
       "      <td>False</td>\n",
       "      <td>...</td>\n",
       "      <td>False</td>\n",
       "      <td>False</td>\n",
       "      <td>False</td>\n",
       "      <td>False</td>\n",
       "      <td>False</td>\n",
       "      <td>False</td>\n",
       "      <td>True</td>\n",
       "      <td>False</td>\n",
       "      <td>False</td>\n",
       "      <td>False</td>\n",
       "    </tr>\n",
       "    <tr>\n",
       "      <th>4</th>\n",
       "      <td>KG_CAP</td>\n",
       "      <td>1995</td>\n",
       "      <td>25.340226</td>\n",
       "      <td>False</td>\n",
       "      <td>True</td>\n",
       "      <td>False</td>\n",
       "      <td>False</td>\n",
       "      <td>False</td>\n",
       "      <td>False</td>\n",
       "      <td>False</td>\n",
       "      <td>...</td>\n",
       "      <td>False</td>\n",
       "      <td>False</td>\n",
       "      <td>False</td>\n",
       "      <td>False</td>\n",
       "      <td>False</td>\n",
       "      <td>False</td>\n",
       "      <td>True</td>\n",
       "      <td>False</td>\n",
       "      <td>False</td>\n",
       "      <td>False</td>\n",
       "    </tr>\n",
       "  </tbody>\n",
       "</table>\n",
       "<p>5 rows × 55 columns</p>\n",
       "</div>"
      ],
      "text/plain": [
       "  MEASURE  TIME      Value  LOCATION_ARG  LOCATION_AUS  LOCATION_BGD  \\\n",
       "0  KG_CAP  1991  27.721815         False          True         False   \n",
       "1  KG_CAP  1992  26.199591         False          True         False   \n",
       "2  KG_CAP  1993  26.169094         False          True         False   \n",
       "3  KG_CAP  1994  25.456134         False          True         False   \n",
       "4  KG_CAP  1995  25.340226         False          True         False   \n",
       "\n",
       "   LOCATION_BRA  LOCATION_BRICS  LOCATION_CAN  LOCATION_CHE  ...  \\\n",
       "0         False           False         False         False  ...   \n",
       "1         False           False         False         False  ...   \n",
       "2         False           False         False         False  ...   \n",
       "3         False           False         False         False  ...   \n",
       "4         False           False         False         False  ...   \n",
       "\n",
       "   LOCATION_URY  LOCATION_USA  LOCATION_VNM  LOCATION_WLD  LOCATION_ZAF  \\\n",
       "0         False         False         False         False         False   \n",
       "1         False         False         False         False         False   \n",
       "2         False         False         False         False         False   \n",
       "3         False         False         False         False         False   \n",
       "4         False         False         False         False         False   \n",
       "\n",
       "   LOCATION_ZMB  SUBJECT_BEEF  SUBJECT_PIG  SUBJECT_POULTRY  SUBJECT_SHEEP  \n",
       "0         False          True        False            False          False  \n",
       "1         False          True        False            False          False  \n",
       "2         False          True        False            False          False  \n",
       "3         False          True        False            False          False  \n",
       "4         False          True        False            False          False  \n",
       "\n",
       "[5 rows x 55 columns]"
      ]
     },
     "execution_count": 33,
     "metadata": {},
     "output_type": "execute_result"
    }
   ],
   "source": [
    "df.head()"
   ]
  },
  {
   "cell_type": "code",
   "execution_count": 32,
   "id": "9000b760",
   "metadata": {},
   "outputs": [
    {
     "ename": "KeyError",
     "evalue": "'LOCATION'",
     "output_type": "error",
     "traceback": [
      "\u001b[1;31m---------------------------------------------------------------------------\u001b[0m",
      "\u001b[1;31mKeyError\u001b[0m                                  Traceback (most recent call last)",
      "File \u001b[1;32m~\\miniconda3\\envs\\ml\\lib\\site-packages\\pandas\\core\\indexes\\base.py:3653\u001b[0m, in \u001b[0;36mIndex.get_loc\u001b[1;34m(self, key)\u001b[0m\n\u001b[0;32m   3652\u001b[0m \u001b[38;5;28;01mtry\u001b[39;00m:\n\u001b[1;32m-> 3653\u001b[0m     \u001b[38;5;28;01mreturn\u001b[39;00m \u001b[38;5;28;43mself\u001b[39;49m\u001b[38;5;241;43m.\u001b[39;49m\u001b[43m_engine\u001b[49m\u001b[38;5;241;43m.\u001b[39;49m\u001b[43mget_loc\u001b[49m\u001b[43m(\u001b[49m\u001b[43mcasted_key\u001b[49m\u001b[43m)\u001b[49m\n\u001b[0;32m   3654\u001b[0m \u001b[38;5;28;01mexcept\u001b[39;00m \u001b[38;5;167;01mKeyError\u001b[39;00m \u001b[38;5;28;01mas\u001b[39;00m err:\n",
      "File \u001b[1;32m~\\miniconda3\\envs\\ml\\lib\\site-packages\\pandas\\_libs\\index.pyx:147\u001b[0m, in \u001b[0;36mpandas._libs.index.IndexEngine.get_loc\u001b[1;34m()\u001b[0m\n",
      "File \u001b[1;32m~\\miniconda3\\envs\\ml\\lib\\site-packages\\pandas\\_libs\\index.pyx:176\u001b[0m, in \u001b[0;36mpandas._libs.index.IndexEngine.get_loc\u001b[1;34m()\u001b[0m\n",
      "File \u001b[1;32mpandas\\_libs\\hashtable_class_helper.pxi:7080\u001b[0m, in \u001b[0;36mpandas._libs.hashtable.PyObjectHashTable.get_item\u001b[1;34m()\u001b[0m\n",
      "File \u001b[1;32mpandas\\_libs\\hashtable_class_helper.pxi:7088\u001b[0m, in \u001b[0;36mpandas._libs.hashtable.PyObjectHashTable.get_item\u001b[1;34m()\u001b[0m\n",
      "\u001b[1;31mKeyError\u001b[0m: 'LOCATION'",
      "\nThe above exception was the direct cause of the following exception:\n",
      "\u001b[1;31mKeyError\u001b[0m                                  Traceback (most recent call last)",
      "Cell \u001b[1;32mIn[32], line 1\u001b[0m\n\u001b[1;32m----> 1\u001b[0m \u001b[43mdf\u001b[49m\u001b[43m[\u001b[49m\u001b[38;5;124;43m'\u001b[39;49m\u001b[38;5;124;43mLOCATION\u001b[39;49m\u001b[38;5;124;43m'\u001b[39;49m\u001b[43m]\u001b[49m\u001b[38;5;241m.\u001b[39munique()\n",
      "File \u001b[1;32m~\\miniconda3\\envs\\ml\\lib\\site-packages\\pandas\\core\\frame.py:3761\u001b[0m, in \u001b[0;36mDataFrame.__getitem__\u001b[1;34m(self, key)\u001b[0m\n\u001b[0;32m   3759\u001b[0m \u001b[38;5;28;01mif\u001b[39;00m \u001b[38;5;28mself\u001b[39m\u001b[38;5;241m.\u001b[39mcolumns\u001b[38;5;241m.\u001b[39mnlevels \u001b[38;5;241m>\u001b[39m \u001b[38;5;241m1\u001b[39m:\n\u001b[0;32m   3760\u001b[0m     \u001b[38;5;28;01mreturn\u001b[39;00m \u001b[38;5;28mself\u001b[39m\u001b[38;5;241m.\u001b[39m_getitem_multilevel(key)\n\u001b[1;32m-> 3761\u001b[0m indexer \u001b[38;5;241m=\u001b[39m \u001b[38;5;28;43mself\u001b[39;49m\u001b[38;5;241;43m.\u001b[39;49m\u001b[43mcolumns\u001b[49m\u001b[38;5;241;43m.\u001b[39;49m\u001b[43mget_loc\u001b[49m\u001b[43m(\u001b[49m\u001b[43mkey\u001b[49m\u001b[43m)\u001b[49m\n\u001b[0;32m   3762\u001b[0m \u001b[38;5;28;01mif\u001b[39;00m is_integer(indexer):\n\u001b[0;32m   3763\u001b[0m     indexer \u001b[38;5;241m=\u001b[39m [indexer]\n",
      "File \u001b[1;32m~\\miniconda3\\envs\\ml\\lib\\site-packages\\pandas\\core\\indexes\\base.py:3655\u001b[0m, in \u001b[0;36mIndex.get_loc\u001b[1;34m(self, key)\u001b[0m\n\u001b[0;32m   3653\u001b[0m     \u001b[38;5;28;01mreturn\u001b[39;00m \u001b[38;5;28mself\u001b[39m\u001b[38;5;241m.\u001b[39m_engine\u001b[38;5;241m.\u001b[39mget_loc(casted_key)\n\u001b[0;32m   3654\u001b[0m \u001b[38;5;28;01mexcept\u001b[39;00m \u001b[38;5;167;01mKeyError\u001b[39;00m \u001b[38;5;28;01mas\u001b[39;00m err:\n\u001b[1;32m-> 3655\u001b[0m     \u001b[38;5;28;01mraise\u001b[39;00m \u001b[38;5;167;01mKeyError\u001b[39;00m(key) \u001b[38;5;28;01mfrom\u001b[39;00m \u001b[38;5;21;01merr\u001b[39;00m\n\u001b[0;32m   3656\u001b[0m \u001b[38;5;28;01mexcept\u001b[39;00m \u001b[38;5;167;01mTypeError\u001b[39;00m:\n\u001b[0;32m   3657\u001b[0m     \u001b[38;5;66;03m# If we have a listlike key, _check_indexing_error will raise\u001b[39;00m\n\u001b[0;32m   3658\u001b[0m     \u001b[38;5;66;03m#  InvalidIndexError. Otherwise we fall through and re-raise\u001b[39;00m\n\u001b[0;32m   3659\u001b[0m     \u001b[38;5;66;03m#  the TypeError.\u001b[39;00m\n\u001b[0;32m   3660\u001b[0m     \u001b[38;5;28mself\u001b[39m\u001b[38;5;241m.\u001b[39m_check_indexing_error(key)\n",
      "\u001b[1;31mKeyError\u001b[0m: 'LOCATION'"
     ]
    }
   ],
   "source": [
    "df['LOCATION'].unique()"
   ]
  },
  {
   "cell_type": "markdown",
   "id": "f73d373d",
   "metadata": {},
   "source": [
    "# Encoding the categorical Data"
   ]
  },
  {
   "cell_type": "code",
   "execution_count": 7,
   "id": "ff3e6d37",
   "metadata": {},
   "outputs": [],
   "source": [
    "#filling up missing values with mean value for each missing rows\n",
    "df = df.fillna(df.mean(numeric_only=True).round(1))"
   ]
  },
  {
   "cell_type": "code",
   "execution_count": 8,
   "id": "0ad732f8",
   "metadata": {},
   "outputs": [],
   "source": [
    "numeric_columns = ['TIME','Value']"
   ]
  },
  {
   "cell_type": "markdown",
   "id": "cef8ab38",
   "metadata": {},
   "source": [
    "## Encoding the independent variable"
   ]
  },
  {
   "cell_type": "code",
   "execution_count": 9,
   "id": "ea9c403a",
   "metadata": {},
   "outputs": [
    {
     "data": {
      "text/plain": [
       "array(['AUS', 'CAN', 'JPN', 'KOR', 'MEX', 'NZL', 'TUR', 'USA', 'DZA',\n",
       "       'ARG', 'BGD', 'BRA', 'CHL', 'CHN', 'COL', 'EGY', 'ETH', 'GHA',\n",
       "       'HTI', 'IND', 'IDN', 'IRN', 'ISR', 'KAZ', 'MYS', 'MOZ', 'NGA',\n",
       "       'PAK', 'PRY', 'PER', 'PHL', 'RUS', 'SAU', 'ZAF', 'SDN', 'TZA',\n",
       "       'THA', 'UKR', 'URY', 'VNM', 'ZMB', 'WLD', 'SSA', 'OECD', 'BRICS',\n",
       "       'EU28', 'NOR', 'CHE'], dtype=object)"
      ]
     },
     "execution_count": 9,
     "metadata": {},
     "output_type": "execute_result"
    }
   ],
   "source": [
    "df['LOCATION'].unique()"
   ]
  },
  {
   "cell_type": "code",
   "execution_count": 10,
   "id": "75c0fec4",
   "metadata": {},
   "outputs": [
    {
     "data": {
      "text/plain": [
       "array([1991, 1992, 1993, 1994, 1995, 1996, 1997, 1998, 1999, 2000, 2001,\n",
       "       2002, 2003, 2004, 2005, 2006, 2007, 2008, 2009, 2010, 2011, 2012,\n",
       "       2013, 2014, 2015, 2016, 2017, 2018, 2019, 2020, 2021, 2022, 2023,\n",
       "       2024, 2025, 2026, 1990], dtype=int64)"
      ]
     },
     "execution_count": 10,
     "metadata": {},
     "output_type": "execute_result"
    }
   ],
   "source": [
    "df['TIME'].unique()"
   ]
  },
  {
   "cell_type": "code",
   "execution_count": 11,
   "id": "5ea4e06d",
   "metadata": {},
   "outputs": [
    {
     "data": {
      "text/plain": [
       "array(['BEEF', 'PIG', 'POULTRY', 'SHEEP'], dtype=object)"
      ]
     },
     "execution_count": 11,
     "metadata": {},
     "output_type": "execute_result"
    }
   ],
   "source": [
    "df['SUBJECT'].unique()"
   ]
  },
  {
   "cell_type": "code",
   "execution_count": 12,
   "id": "d6bb80da",
   "metadata": {
    "scrolled": true
   },
   "outputs": [],
   "source": [
    "df = pd.get_dummies(df, columns=[\"LOCATION\",\"SUBJECT\"])"
   ]
  },
  {
   "cell_type": "code",
   "execution_count": 13,
   "id": "2100f028",
   "metadata": {
    "scrolled": true
   },
   "outputs": [
    {
     "data": {
      "text/html": [
       "<div>\n",
       "<style scoped>\n",
       "    .dataframe tbody tr th:only-of-type {\n",
       "        vertical-align: middle;\n",
       "    }\n",
       "\n",
       "    .dataframe tbody tr th {\n",
       "        vertical-align: top;\n",
       "    }\n",
       "\n",
       "    .dataframe thead th {\n",
       "        text-align: right;\n",
       "    }\n",
       "</style>\n",
       "<table border=\"1\" class=\"dataframe\">\n",
       "  <thead>\n",
       "    <tr style=\"text-align: right;\">\n",
       "      <th></th>\n",
       "      <th>MEASURE</th>\n",
       "      <th>TIME</th>\n",
       "      <th>Value</th>\n",
       "      <th>LOCATION_ARG</th>\n",
       "      <th>LOCATION_AUS</th>\n",
       "      <th>LOCATION_BGD</th>\n",
       "      <th>LOCATION_BRA</th>\n",
       "      <th>LOCATION_BRICS</th>\n",
       "      <th>LOCATION_CAN</th>\n",
       "      <th>LOCATION_CHE</th>\n",
       "      <th>...</th>\n",
       "      <th>LOCATION_URY</th>\n",
       "      <th>LOCATION_USA</th>\n",
       "      <th>LOCATION_VNM</th>\n",
       "      <th>LOCATION_WLD</th>\n",
       "      <th>LOCATION_ZAF</th>\n",
       "      <th>LOCATION_ZMB</th>\n",
       "      <th>SUBJECT_BEEF</th>\n",
       "      <th>SUBJECT_PIG</th>\n",
       "      <th>SUBJECT_POULTRY</th>\n",
       "      <th>SUBJECT_SHEEP</th>\n",
       "    </tr>\n",
       "  </thead>\n",
       "  <tbody>\n",
       "    <tr>\n",
       "      <th>0</th>\n",
       "      <td>KG_CAP</td>\n",
       "      <td>1991</td>\n",
       "      <td>27.721815</td>\n",
       "      <td>False</td>\n",
       "      <td>True</td>\n",
       "      <td>False</td>\n",
       "      <td>False</td>\n",
       "      <td>False</td>\n",
       "      <td>False</td>\n",
       "      <td>False</td>\n",
       "      <td>...</td>\n",
       "      <td>False</td>\n",
       "      <td>False</td>\n",
       "      <td>False</td>\n",
       "      <td>False</td>\n",
       "      <td>False</td>\n",
       "      <td>False</td>\n",
       "      <td>True</td>\n",
       "      <td>False</td>\n",
       "      <td>False</td>\n",
       "      <td>False</td>\n",
       "    </tr>\n",
       "    <tr>\n",
       "      <th>1</th>\n",
       "      <td>KG_CAP</td>\n",
       "      <td>1992</td>\n",
       "      <td>26.199591</td>\n",
       "      <td>False</td>\n",
       "      <td>True</td>\n",
       "      <td>False</td>\n",
       "      <td>False</td>\n",
       "      <td>False</td>\n",
       "      <td>False</td>\n",
       "      <td>False</td>\n",
       "      <td>...</td>\n",
       "      <td>False</td>\n",
       "      <td>False</td>\n",
       "      <td>False</td>\n",
       "      <td>False</td>\n",
       "      <td>False</td>\n",
       "      <td>False</td>\n",
       "      <td>True</td>\n",
       "      <td>False</td>\n",
       "      <td>False</td>\n",
       "      <td>False</td>\n",
       "    </tr>\n",
       "    <tr>\n",
       "      <th>2</th>\n",
       "      <td>KG_CAP</td>\n",
       "      <td>1993</td>\n",
       "      <td>26.169094</td>\n",
       "      <td>False</td>\n",
       "      <td>True</td>\n",
       "      <td>False</td>\n",
       "      <td>False</td>\n",
       "      <td>False</td>\n",
       "      <td>False</td>\n",
       "      <td>False</td>\n",
       "      <td>...</td>\n",
       "      <td>False</td>\n",
       "      <td>False</td>\n",
       "      <td>False</td>\n",
       "      <td>False</td>\n",
       "      <td>False</td>\n",
       "      <td>False</td>\n",
       "      <td>True</td>\n",
       "      <td>False</td>\n",
       "      <td>False</td>\n",
       "      <td>False</td>\n",
       "    </tr>\n",
       "    <tr>\n",
       "      <th>3</th>\n",
       "      <td>KG_CAP</td>\n",
       "      <td>1994</td>\n",
       "      <td>25.456134</td>\n",
       "      <td>False</td>\n",
       "      <td>True</td>\n",
       "      <td>False</td>\n",
       "      <td>False</td>\n",
       "      <td>False</td>\n",
       "      <td>False</td>\n",
       "      <td>False</td>\n",
       "      <td>...</td>\n",
       "      <td>False</td>\n",
       "      <td>False</td>\n",
       "      <td>False</td>\n",
       "      <td>False</td>\n",
       "      <td>False</td>\n",
       "      <td>False</td>\n",
       "      <td>True</td>\n",
       "      <td>False</td>\n",
       "      <td>False</td>\n",
       "      <td>False</td>\n",
       "    </tr>\n",
       "    <tr>\n",
       "      <th>4</th>\n",
       "      <td>KG_CAP</td>\n",
       "      <td>1995</td>\n",
       "      <td>25.340226</td>\n",
       "      <td>False</td>\n",
       "      <td>True</td>\n",
       "      <td>False</td>\n",
       "      <td>False</td>\n",
       "      <td>False</td>\n",
       "      <td>False</td>\n",
       "      <td>False</td>\n",
       "      <td>...</td>\n",
       "      <td>False</td>\n",
       "      <td>False</td>\n",
       "      <td>False</td>\n",
       "      <td>False</td>\n",
       "      <td>False</td>\n",
       "      <td>False</td>\n",
       "      <td>True</td>\n",
       "      <td>False</td>\n",
       "      <td>False</td>\n",
       "      <td>False</td>\n",
       "    </tr>\n",
       "  </tbody>\n",
       "</table>\n",
       "<p>5 rows × 55 columns</p>\n",
       "</div>"
      ],
      "text/plain": [
       "  MEASURE  TIME      Value  LOCATION_ARG  LOCATION_AUS  LOCATION_BGD  \\\n",
       "0  KG_CAP  1991  27.721815         False          True         False   \n",
       "1  KG_CAP  1992  26.199591         False          True         False   \n",
       "2  KG_CAP  1993  26.169094         False          True         False   \n",
       "3  KG_CAP  1994  25.456134         False          True         False   \n",
       "4  KG_CAP  1995  25.340226         False          True         False   \n",
       "\n",
       "   LOCATION_BRA  LOCATION_BRICS  LOCATION_CAN  LOCATION_CHE  ...  \\\n",
       "0         False           False         False         False  ...   \n",
       "1         False           False         False         False  ...   \n",
       "2         False           False         False         False  ...   \n",
       "3         False           False         False         False  ...   \n",
       "4         False           False         False         False  ...   \n",
       "\n",
       "   LOCATION_URY  LOCATION_USA  LOCATION_VNM  LOCATION_WLD  LOCATION_ZAF  \\\n",
       "0         False         False         False         False         False   \n",
       "1         False         False         False         False         False   \n",
       "2         False         False         False         False         False   \n",
       "3         False         False         False         False         False   \n",
       "4         False         False         False         False         False   \n",
       "\n",
       "   LOCATION_ZMB  SUBJECT_BEEF  SUBJECT_PIG  SUBJECT_POULTRY  SUBJECT_SHEEP  \n",
       "0         False          True        False            False          False  \n",
       "1         False          True        False            False          False  \n",
       "2         False          True        False            False          False  \n",
       "3         False          True        False            False          False  \n",
       "4         False          True        False            False          False  \n",
       "\n",
       "[5 rows x 55 columns]"
      ]
     },
     "execution_count": 13,
     "metadata": {},
     "output_type": "execute_result"
    }
   ],
   "source": [
    "df.head()"
   ]
  },
  {
   "cell_type": "code",
   "execution_count": 14,
   "id": "be45acc5",
   "metadata": {},
   "outputs": [],
   "source": [
    "categorical_columns = [\n",
    "    'LOCATION_AUS', 'LOCATION_CAN', 'LOCATION_JPN', 'LOCATION_KOR', 'LOCATION_MEX', 'LOCATION_NZL',\n",
    "    'LOCATION_TUR', 'LOCATION_USA', 'LOCATION_DZA', 'LOCATION_ARG', 'LOCATION_BGD', 'LOCATION_BRA',\n",
    "    'LOCATION_CHL', 'LOCATION_CHN', 'LOCATION_COL', 'LOCATION_EGY', 'LOCATION_ETH', 'LOCATION_GHA',\n",
    "    'LOCATION_HTI', 'LOCATION_IND', 'LOCATION_IDN', 'LOCATION_IRN', 'LOCATION_ISR', 'LOCATION_KAZ',\n",
    "    'LOCATION_MYS', 'LOCATION_MOZ', 'LOCATION_NGA', 'LOCATION_PAK', 'LOCATION_PRY', 'LOCATION_PER',\n",
    "    'LOCATION_PHL', 'LOCATION_RUS', 'LOCATION_SAU', 'LOCATION_ZAF', 'LOCATION_SDN', 'LOCATION_TZA',\n",
    "    'LOCATION_THA', 'LOCATION_UKR', 'LOCATION_URY', 'LOCATION_VNM', 'LOCATION_ZMB', 'LOCATION_WLD',\n",
    "    'LOCATION_SSA', 'LOCATION_OECD', 'LOCATION_BRICS', 'LOCATION_EU28', 'LOCATION_NOR', 'LOCATION_CHE',\n",
    "    'SUBJECT_BEEF','SUBJECT_PIG','SUBJECT_POULTRY','SUBJECT_SHEEP']\n",
    "independent_columns = numeric_columns + categorical_columns"
   ]
  },
  {
   "cell_type": "markdown",
   "id": "c5b472d1",
   "metadata": {},
   "source": [
    "# Encoding dependent variables"
   ]
  },
  {
   "cell_type": "code",
   "execution_count": 15,
   "id": "91c9d49b",
   "metadata": {},
   "outputs": [
    {
     "data": {
      "text/plain": [
       "array([27.72181548, 26.19959097, 26.1690941 , ..., 45.6121072 ,\n",
       "       46.32531235, 47.04720671])"
      ]
     },
     "execution_count": 15,
     "metadata": {},
     "output_type": "execute_result"
    }
   ],
   "source": [
    "#Encoding Dependent Variable \n",
    "df['Value'].unique()"
   ]
  },
  {
   "cell_type": "markdown",
   "id": "b4b7eae3",
   "metadata": {},
   "source": [
    "# Split into training and testing sets"
   ]
  },
  {
   "cell_type": "code",
   "execution_count": 16,
   "id": "e85e27a0",
   "metadata": {
    "scrolled": true
   },
   "outputs": [
    {
     "name": "stdout",
     "output_type": "stream",
     "text": [
      "0        27.721815\n",
      "1        26.199591\n",
      "2        26.169094\n",
      "3        25.456134\n",
      "4        25.340226\n",
      "           ...    \n",
      "13755    44.154151\n",
      "13756    44.897588\n",
      "13757    45.612107\n",
      "13758    46.325312\n",
      "13759    47.047207\n",
      "Name: Value, Length: 13760, dtype: float64\n"
     ]
    }
   ],
   "source": [
    "x = df[independent_columns].values\n",
    "y = df['Value'] #.values.reshape(-1,1)\n",
    "print(y)"
   ]
  },
  {
   "cell_type": "code",
   "execution_count": 17,
   "id": "7045c419",
   "metadata": {},
   "outputs": [],
   "source": [
    "trainX,testX,trainY,testY = train_test_split(x,y,test_size=.2,random_state=42)"
   ]
  },
  {
   "cell_type": "code",
   "execution_count": 18,
   "id": "b2abfd7e",
   "metadata": {},
   "outputs": [
    {
     "name": "stdout",
     "output_type": "stream",
     "text": [
      "Split X:  (11008, 54) (2752, 54)\n",
      "Split Y:  (11008,) (2752,)\n"
     ]
    }
   ],
   "source": [
    "print('Split X: ', trainX.shape, testX.shape)\n",
    "print('Split Y: ', trainY.shape, testY.shape)"
   ]
  },
  {
   "cell_type": "markdown",
   "id": "64a6d74d",
   "metadata": {},
   "source": [
    "# Feature Scaling"
   ]
  },
  {
   "cell_type": "code",
   "execution_count": 19,
   "id": "c253efa6",
   "metadata": {},
   "outputs": [],
   "source": [
    "original = df[numeric_columns]"
   ]
  },
  {
   "cell_type": "code",
   "execution_count": 20,
   "id": "04356f04",
   "metadata": {},
   "outputs": [],
   "source": [
    "standardizedArray = preprocessing.scale(original)"
   ]
  },
  {
   "cell_type": "code",
   "execution_count": 21,
   "id": "17bcf6fd",
   "metadata": {},
   "outputs": [
    {
     "data": {
      "text/html": [
       "<div>\n",
       "<style scoped>\n",
       "    .dataframe tbody tr th:only-of-type {\n",
       "        vertical-align: middle;\n",
       "    }\n",
       "\n",
       "    .dataframe tbody tr th {\n",
       "        vertical-align: top;\n",
       "    }\n",
       "\n",
       "    .dataframe thead th {\n",
       "        text-align: right;\n",
       "    }\n",
       "</style>\n",
       "<table border=\"1\" class=\"dataframe\">\n",
       "  <thead>\n",
       "    <tr style=\"text-align: right;\">\n",
       "      <th></th>\n",
       "      <th>TIME</th>\n",
       "      <th>Value</th>\n",
       "    </tr>\n",
       "  </thead>\n",
       "  <tbody>\n",
       "    <tr>\n",
       "      <th>0</th>\n",
       "      <td>-1.620256</td>\n",
       "      <td>-0.195409</td>\n",
       "    </tr>\n",
       "    <tr>\n",
       "      <th>1</th>\n",
       "      <td>-1.525920</td>\n",
       "      <td>-0.195572</td>\n",
       "    </tr>\n",
       "    <tr>\n",
       "      <th>2</th>\n",
       "      <td>-1.431583</td>\n",
       "      <td>-0.195575</td>\n",
       "    </tr>\n",
       "    <tr>\n",
       "      <th>3</th>\n",
       "      <td>-1.337247</td>\n",
       "      <td>-0.195651</td>\n",
       "    </tr>\n",
       "    <tr>\n",
       "      <th>4</th>\n",
       "      <td>-1.242910</td>\n",
       "      <td>-0.195663</td>\n",
       "    </tr>\n",
       "    <tr>\n",
       "      <th>...</th>\n",
       "      <td>...</td>\n",
       "      <td>...</td>\n",
       "    </tr>\n",
       "    <tr>\n",
       "      <th>13755</th>\n",
       "      <td>1.304174</td>\n",
       "      <td>-0.193659</td>\n",
       "    </tr>\n",
       "    <tr>\n",
       "      <th>13756</th>\n",
       "      <td>1.398511</td>\n",
       "      <td>-0.193579</td>\n",
       "    </tr>\n",
       "    <tr>\n",
       "      <th>13757</th>\n",
       "      <td>1.492847</td>\n",
       "      <td>-0.193503</td>\n",
       "    </tr>\n",
       "    <tr>\n",
       "      <th>13758</th>\n",
       "      <td>1.587184</td>\n",
       "      <td>-0.193427</td>\n",
       "    </tr>\n",
       "    <tr>\n",
       "      <th>13759</th>\n",
       "      <td>1.681520</td>\n",
       "      <td>-0.193350</td>\n",
       "    </tr>\n",
       "  </tbody>\n",
       "</table>\n",
       "<p>13760 rows × 2 columns</p>\n",
       "</div>"
      ],
      "text/plain": [
       "           TIME     Value\n",
       "0     -1.620256 -0.195409\n",
       "1     -1.525920 -0.195572\n",
       "2     -1.431583 -0.195575\n",
       "3     -1.337247 -0.195651\n",
       "4     -1.242910 -0.195663\n",
       "...         ...       ...\n",
       "13755  1.304174 -0.193659\n",
       "13756  1.398511 -0.193579\n",
       "13757  1.492847 -0.193503\n",
       "13758  1.587184 -0.193427\n",
       "13759  1.681520 -0.193350\n",
       "\n",
       "[13760 rows x 2 columns]"
      ]
     },
     "execution_count": 21,
     "metadata": {},
     "output_type": "execute_result"
    }
   ],
   "source": [
    "standardized = pd.DataFrame(standardizedArray, columns=numeric_columns)\n",
    "standardized"
   ]
  },
  {
   "cell_type": "markdown",
   "id": "9932138f",
   "metadata": {},
   "source": [
    "# Applying Linear Regression"
   ]
  },
  {
   "cell_type": "code",
   "execution_count": 22,
   "id": "e451f9a0",
   "metadata": {},
   "outputs": [
    {
     "name": "stdout",
     "output_type": "stream",
     "text": [
      "[[27.72181548]\n",
      " [26.19959097]\n",
      " [26.1690941 ]\n",
      " ...\n",
      " [45.6121072 ]\n",
      " [46.32531235]\n",
      " [47.04720671]]\n"
     ]
    }
   ],
   "source": [
    "X = df[['TIME']].values\n",
    "y = df[['Value']].values #.reshape(-1,1)\n",
    "print(y)"
   ]
  },
  {
   "cell_type": "code",
   "execution_count": 23,
   "id": "c1441fc3",
   "metadata": {},
   "outputs": [
    {
     "data": {
      "text/plain": [
       "Text(0, 0.5, 'Value')"
      ]
     },
     "execution_count": 23,
     "metadata": {},
     "output_type": "execute_result"
    },
    {
     "data": {
      "image/png": "[encoded data removed]",
      "text/plain": [
       "<Figure size 640x480 with 1 Axes>"
      ]
     },
     "metadata": {},
     "output_type": "display_data"
    }
   ],
   "source": [
    "#Fit a least squares regression model\n",
    "linModel = LinearRegression()\n",
    "linModel.fit(X,y)\n",
    "yPredicted = linModel.predict(X)\n",
    "\n",
    "#Graphing\n",
    "plt.scatter(X,y, color='black')\n",
    "plt.plot(X,yPredicted,color='blue',linewidth=2)\n",
    "plt.xlabel('Time',fontsize=14)\n",
    "plt.ylabel('Value',fontsize=14)"
   ]
  },
  {
   "cell_type": "code",
   "execution_count": 24,
   "id": "a4378298",
   "metadata": {},
   "outputs": [
    {
     "data": {
      "text/plain": [
       "Text(0, 0.5, 'Value')"
      ]
     },
     "execution_count": 24,
     "metadata": {},
     "output_type": "execute_result"
    },
    {
     "data": {
      "image/png": "[encoded data removed]",
      "text/plain": [
       "<Figure size 640x480 with 1 Axes>"
      ]
     },
     "metadata": {},
     "output_type": "display_data"
    }
   ],
   "source": [
    "plt.scatter(X,y,color='black')\n",
    "plt.plot(X,yPredicted,color='blue',linewidth=2)\n",
    "for i in range(len(X)):\n",
    "    plt.plot(X[i],X[i],[y[i],yPredicted[i]],color='grey',linewidth=1)\n",
    "plt.xlabel('Time',fontsize=14)\n",
    "plt.ylabel('Value',fontsize=14)"
   ]
  },
  {
   "cell_type": "code",
   "execution_count": null,
   "id": "3f98d652",
   "metadata": {},
   "outputs": [],
   "source": []
  },
  {
   "cell_type": "code",
   "execution_count": null,
   "id": "a950e5c6",
   "metadata": {},
   "outputs": [],
   "source": []
  },
  {
   "cell_type": "code",
   "execution_count": null,
   "id": "fd1addb6",
   "metadata": {},
   "outputs": [],
   "source": []
  },
  {
   "cell_type": "code",
   "execution_count": null,
   "id": "8b92b017",
   "metadata": {},
   "outputs": [],
   "source": []
  },
  {
   "cell_type": "code",
   "execution_count": null,
   "id": "37eac747",
   "metadata": {},
   "outputs": [],
   "source": []
  },
  {
   "cell_type": "code",
   "execution_count": null,
   "id": "05eb0824",
   "metadata": {},
   "outputs": [],
   "source": []
  },
  {
   "cell_type": "code",
   "execution_count": null,
   "id": "5f93ed58",
   "metadata": {},
   "outputs": [],
   "source": []
  },
  {
   "cell_type": "code",
   "execution_count": null,
   "id": "85b0c234",
   "metadata": {},
   "outputs": [],
   "source": []
  },
  {
   "cell_type": "code",
   "execution_count": null,
   "id": "92c4fc0c",
   "metadata": {},
   "outputs": [],
   "source": []
  },
  {
   "cell_type": "code",
   "execution_count": null,
   "id": "85f81ec2",
   "metadata": {},
   "outputs": [],
   "source": []
  },
  {
   "cell_type": "code",
   "execution_count": null,
   "id": "f79ccf7e",
   "metadata": {},
   "outputs": [],
   "source": []
  },
  {
   "cell_type": "code",
   "execution_count": null,
   "id": "305e8460",
   "metadata": {},
   "outputs": [],
   "source": []
  }
 ],
 "metadata": {
  "kernelspec": {
   "display_name": "Python 3 (ipykernel)",
   "language": "python",
   "name": "python3"
  },
  "language_info": {
   "codemirror_mode": {
    "name": "ipython",
    "version": 3
   },
   "file_extension": ".py",
   "mimetype": "text/x-python",
   "name": "python",
   "nbconvert_exporter": "python",
   "pygments_lexer": "ipython3",
   "version": "3.9.17"
  }
 },
 "nbformat": 4,
 "nbformat_minor": 5
}
